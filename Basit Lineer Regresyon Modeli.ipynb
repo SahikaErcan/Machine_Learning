{
 "cells": [
  {
   "cell_type": "code",
   "execution_count": 70,
   "metadata": {},
   "outputs": [],
   "source": [
    "import numpy as np\n",
    "import pandas as pd\n",
    "import matplotlib.pyplot as plt\n",
    "\n",
    "from sklearn.linear_model import LinearRegression\n",
    "from sklearn.metrics import r2_score, mean_absolute_error, mean_squared_error # oluştuduğumuz modelin performansını ölçer\n",
    "from sklearn.model_selection import train_test_split"
   ]
  },
  {
   "cell_type": "code",
   "execution_count": 71,
   "metadata": {},
   "outputs": [],
   "source": [
    "import os\n",
    "os.chdir(r\"C:\\Users\\Excalibur\\Desktop\\VERİ BİLİMİ\\Makine Öğrenmesi\\verisetleri\")"
   ]
  },
  {
   "cell_type": "code",
   "execution_count": 72,
   "metadata": {},
   "outputs": [
    {
     "data": {
      "text/html": [
       "<div>\n",
       "<style scoped>\n",
       "    .dataframe tbody tr th:only-of-type {\n",
       "        vertical-align: middle;\n",
       "    }\n",
       "\n",
       "    .dataframe tbody tr th {\n",
       "        vertical-align: top;\n",
       "    }\n",
       "\n",
       "    .dataframe thead th {\n",
       "        text-align: right;\n",
       "    }\n",
       "</style>\n",
       "<table border=\"1\" class=\"dataframe\">\n",
       "  <thead>\n",
       "    <tr style=\"text-align: right;\">\n",
       "      <th></th>\n",
       "      <th>x</th>\n",
       "      <th>y</th>\n",
       "    </tr>\n",
       "  </thead>\n",
       "  <tbody>\n",
       "    <tr>\n",
       "      <th>0</th>\n",
       "      <td>82.583220</td>\n",
       "      <td>134.907414</td>\n",
       "    </tr>\n",
       "    <tr>\n",
       "      <th>1</th>\n",
       "      <td>73.922466</td>\n",
       "      <td>134.085180</td>\n",
       "    </tr>\n",
       "    <tr>\n",
       "      <th>2</th>\n",
       "      <td>34.887445</td>\n",
       "      <td>NaN</td>\n",
       "    </tr>\n",
       "    <tr>\n",
       "      <th>3</th>\n",
       "      <td>61.839983</td>\n",
       "      <td>114.530638</td>\n",
       "    </tr>\n",
       "    <tr>\n",
       "      <th>4</th>\n",
       "      <td>16.775940</td>\n",
       "      <td>31.376437</td>\n",
       "    </tr>\n",
       "  </tbody>\n",
       "</table>\n",
       "</div>"
      ],
      "text/plain": [
       "           x           y\n",
       "0  82.583220  134.907414\n",
       "1  73.922466  134.085180\n",
       "2  34.887445         NaN\n",
       "3  61.839983  114.530638\n",
       "4  16.775940   31.376437"
      ]
     },
     "execution_count": 72,
     "metadata": {},
     "output_type": "execute_result"
    }
   ],
   "source": [
    "df = pd.read_csv(\"linear_model.csv\")\n",
    "df.head()"
   ]
  },
  {
   "cell_type": "markdown",
   "metadata": {},
   "source": [
    "* x lerden yola çıkarak y leri tahmin etmeye çalışacağız. \n",
    "* Öncelikle veri setini düzenleyelim."
   ]
  },
  {
   "cell_type": "code",
   "execution_count": 73,
   "metadata": {},
   "outputs": [
    {
     "data": {
      "text/plain": [
       "x    0\n",
       "y    8\n",
       "dtype: int64"
      ]
     },
     "execution_count": 73,
     "metadata": {},
     "output_type": "execute_result"
    }
   ],
   "source": [
    "df.isnull().sum()"
   ]
  },
  {
   "cell_type": "markdown",
   "metadata": {},
   "source": [
    "* y değişkenin de 8 eleman var"
   ]
  },
  {
   "cell_type": "code",
   "execution_count": 74,
   "metadata": {},
   "outputs": [],
   "source": [
    "# nan değerleri ortalama ile dolduralım\n",
    "df.y.fillna(df.y.mean(), inplace=True)"
   ]
  },
  {
   "cell_type": "code",
   "execution_count": 75,
   "metadata": {},
   "outputs": [
    {
     "data": {
      "text/plain": [
       "x    0\n",
       "y    0\n",
       "dtype: int64"
      ]
     },
     "execution_count": 75,
     "metadata": {},
     "output_type": "execute_result"
    }
   ],
   "source": [
    "df.isnull().sum()"
   ]
  },
  {
   "cell_type": "code",
   "execution_count": 76,
   "metadata": {},
   "outputs": [
    {
     "data": {
      "text/html": [
       "<div>\n",
       "<style scoped>\n",
       "    .dataframe tbody tr th:only-of-type {\n",
       "        vertical-align: middle;\n",
       "    }\n",
       "\n",
       "    .dataframe tbody tr th {\n",
       "        vertical-align: top;\n",
       "    }\n",
       "\n",
       "    .dataframe thead th {\n",
       "        text-align: right;\n",
       "    }\n",
       "</style>\n",
       "<table border=\"1\" class=\"dataframe\">\n",
       "  <thead>\n",
       "    <tr style=\"text-align: right;\">\n",
       "      <th></th>\n",
       "      <th>x</th>\n",
       "      <th>y</th>\n",
       "    </tr>\n",
       "  </thead>\n",
       "  <tbody>\n",
       "    <tr>\n",
       "      <th>count</th>\n",
       "      <td>100.000000</td>\n",
       "      <td>100.000000</td>\n",
       "    </tr>\n",
       "    <tr>\n",
       "      <th>mean</th>\n",
       "      <td>52.099330</td>\n",
       "      <td>87.915132</td>\n",
       "    </tr>\n",
       "    <tr>\n",
       "      <th>std</th>\n",
       "      <td>29.416763</td>\n",
       "      <td>45.150390</td>\n",
       "    </tr>\n",
       "    <tr>\n",
       "      <th>min</th>\n",
       "      <td>0.016737</td>\n",
       "      <td>-6.236295</td>\n",
       "    </tr>\n",
       "    <tr>\n",
       "      <th>25%</th>\n",
       "      <td>29.012087</td>\n",
       "      <td>52.047526</td>\n",
       "    </tr>\n",
       "    <tr>\n",
       "      <th>50%</th>\n",
       "      <td>55.255856</td>\n",
       "      <td>87.915132</td>\n",
       "    </tr>\n",
       "    <tr>\n",
       "      <th>75%</th>\n",
       "      <td>77.442040</td>\n",
       "      <td>126.556343</td>\n",
       "    </tr>\n",
       "    <tr>\n",
       "      <th>max</th>\n",
       "      <td>99.432294</td>\n",
       "      <td>166.164544</td>\n",
       "    </tr>\n",
       "  </tbody>\n",
       "</table>\n",
       "</div>"
      ],
      "text/plain": [
       "                x           y\n",
       "count  100.000000  100.000000\n",
       "mean    52.099330   87.915132\n",
       "std     29.416763   45.150390\n",
       "min      0.016737   -6.236295\n",
       "25%     29.012087   52.047526\n",
       "50%     55.255856   87.915132\n",
       "75%     77.442040  126.556343\n",
       "max     99.432294  166.164544"
      ]
     },
     "execution_count": 76,
     "metadata": {},
     "output_type": "execute_result"
    }
   ],
   "source": [
    "df.describe()"
   ]
  },
  {
   "cell_type": "code",
   "execution_count": 77,
   "metadata": {},
   "outputs": [],
   "source": [
    "# Manuel olarak Normalizasyon (MinMaxScaller) yapalım \n",
    "df.x = (df.x - df.x.min()) / (df.x.max() - df.x.min())\n",
    "df.y = (df.y - df.y.min()) / (df.y.max() - df.y.min())"
   ]
  },
  {
   "cell_type": "code",
   "execution_count": 46,
   "metadata": {},
   "outputs": [],
   "source": [
    "\"\"\"from sklearn.preprocessing import MinMaxScaler\n",
    "\n",
    "min_max_scaler = MinMaxScaler()\n",
    "scaled_df = min_max_scaler.fit_transform(df)\n",
    "df = pd.DataFrame(scaled_df)\n",
    "\n",
    "df.head()\"\"\""
   ]
  },
  {
   "cell_type": "code",
   "execution_count": 78,
   "metadata": {},
   "outputs": [],
   "source": [
    "X = df.x\n",
    "y = df.y\n",
    "\n",
    "# X ve y yapıları Series yapısında. \n",
    "# Series yapıları index ve value den oluşuyor.\n",
    "# Bu nedenle aşağıda value değerlerini aldık."
   ]
  },
  {
   "cell_type": "code",
   "execution_count": 82,
   "metadata": {},
   "outputs": [
    {
     "data": {
      "image/png": "[encoded data removed]",
      "text/plain": [
       "<Figure size 432x288 with 1 Axes>"
      ]
     },
     "metadata": {
      "needs_background": "light"
     },
     "output_type": "display_data"
    }
   ],
   "source": [
    "# x ve y arasındaki ilişki\n",
    "\n",
    "plt.scatter(X.values, y.values);"
   ]
  },
  {
   "cell_type": "markdown",
   "metadata": {},
   "source": [
    "Pozitif yönde doğrusal bi ilişki olduğunu gözlemleyebiliyoruz."
   ]
  },
  {
   "cell_type": "code",
   "execution_count": 83,
   "metadata": {},
   "outputs": [
    {
     "data": {
      "text/plain": [
       "LinearRegression()"
      ]
     },
     "execution_count": 83,
     "metadata": {},
     "output_type": "execute_result"
    }
   ],
   "source": [
    "# MODEL KURMA\n",
    "lineer_regresyon = LinearRegression()\n",
    "lineer_regresyon.fit(X.values.reshape(-1,1), y.values.reshape(-1,1))\n",
    "# X.values.reshape(-1,1) : verilermiz kaç satır olduğu önemli değil ama tek sütundan oluşmalı.\n",
    "#lineer regresyon her bir değişkeni tek sütunda görmek ister."
   ]
  },
  {
   "cell_type": "code",
   "execution_count": 84,
   "metadata": {},
   "outputs": [
    {
     "data": {
      "text/plain": [
       "array([[0.83833805]])"
      ]
     },
     "execution_count": 84,
     "metadata": {},
     "output_type": "execute_result"
    }
   ],
   "source": [
    "lineer_regresyon.coef_"
   ]
  },
  {
   "cell_type": "code",
   "execution_count": 85,
   "metadata": {},
   "outputs": [
    {
     "data": {
      "text/plain": [
       "array([0.10692427])"
      ]
     },
     "execution_count": 85,
     "metadata": {},
     "output_type": "execute_result"
    }
   ],
   "source": [
    "lineer_regresyon.intercept_"
   ]
  },
  {
   "cell_type": "code",
   "execution_count": 88,
   "metadata": {},
   "outputs": [
    {
     "name": "stdout",
     "output_type": "stream",
     "text": [
      "Kurulan regresyon modeli : Y = 0.11 + 0.84 * x\n"
     ]
    }
   ],
   "source": [
    "print(\"Kurulan regresyon modeli : Y = {} + {} * x\".format(lineer_regresyon.intercept_[0].round(2),\n",
    "                                                          lineer_regresyon.coef_[0][0].round(2)))"
   ]
  },
  {
   "cell_type": "code",
   "execution_count": 90,
   "metadata": {
    "collapsed": true
   },
   "outputs": [
    {
     "data": {
      "text/plain": [
       "array([[0.80317973],\n",
       "       [0.7301465 ],\n",
       "       [0.40097726],\n",
       "       [0.62825897],\n",
       "       [0.24824901],\n",
       "       [0.10692427],\n",
       "       [0.48167956],\n",
       "       [0.19401828],\n",
       "       [0.46742402],\n",
       "       [0.28266017],\n",
       "       [0.24869691],\n",
       "       [0.11588219],\n",
       "       [0.49158714],\n",
       "       [0.86077015],\n",
       "       [0.139522  ],\n",
       "       [0.53048252],\n",
       "       [0.7011594 ],\n",
       "       [0.12219311],\n",
       "       [0.64324244],\n",
       "       [0.67287585],\n",
       "       [0.67155314],\n",
       "       [0.84532974],\n",
       "       [0.62428219],\n",
       "       [0.35883925],\n",
       "       [0.50203532],\n",
       "       [0.51548353],\n",
       "       [0.90787633],\n",
       "       [0.90445776],\n",
       "       [0.4128963 ],\n",
       "       [0.56749867],\n",
       "       [0.50940091],\n",
       "       [0.5224947 ],\n",
       "       [0.60140052],\n",
       "       [0.12644478],\n",
       "       [0.25153861],\n",
       "       [0.69566935],\n",
       "       [0.70941502],\n",
       "       [0.48216812],\n",
       "       [0.16159497],\n",
       "       [0.76977141],\n",
       "       [0.57230426],\n",
       "       [0.25491913],\n",
       "       [0.15320187],\n",
       "       [0.17806378],\n",
       "       [0.84148073],\n",
       "       [0.27685549],\n",
       "       [0.62494433],\n",
       "       [0.81743074],\n",
       "       [0.25174253],\n",
       "       [0.78053911],\n",
       "       [0.87450311],\n",
       "       [0.59708414],\n",
       "       [0.91768388],\n",
       "       [0.27846144],\n",
       "       [0.60933729],\n",
       "       [0.45183754],\n",
       "       [0.62917143],\n",
       "       [0.14988579],\n",
       "       [0.61731679],\n",
       "       [0.37213718],\n",
       "       [0.82945889],\n",
       "       [0.69066331],\n",
       "       [0.50866387],\n",
       "       [0.70157417],\n",
       "       [0.54822098],\n",
       "       [0.39688373],\n",
       "       [0.88532773],\n",
       "       [0.35501458],\n",
       "       [0.37042752],\n",
       "       [0.57317021],\n",
       "       [0.56556102],\n",
       "       [0.77676161],\n",
       "       [0.94526232],\n",
       "       [0.92298263],\n",
       "       [0.65122166],\n",
       "       [0.9309934 ],\n",
       "       [0.41028221],\n",
       "       [0.55295095],\n",
       "       [0.85375465],\n",
       "       [0.71936192],\n",
       "       [0.79287522],\n",
       "       [0.34068557],\n",
       "       [0.75651071],\n",
       "       [0.82239257],\n",
       "       [0.31035552],\n",
       "       [0.61532251],\n",
       "       [0.68037148],\n",
       "       [0.73264154],\n",
       "       [0.8013024 ],\n",
       "       [0.14489607],\n",
       "       [0.12825628],\n",
       "       [0.90757166],\n",
       "       [0.11449231],\n",
       "       [0.1814478 ],\n",
       "       [0.4262474 ],\n",
       "       [0.82980705],\n",
       "       [0.65642243],\n",
       "       [0.31198161],\n",
       "       [0.82488994],\n",
       "       [0.78594279]])"
      ]
     },
     "execution_count": 90,
     "metadata": {},
     "output_type": "execute_result"
    }
   ],
   "source": [
    "y_pred = lineer_regresyon.predict(X.values.reshape(-1,1))\n",
    "y_pred # X e bağlı y tahminleri"
   ]
  },
  {
   "cell_type": "code",
   "execution_count": 91,
   "metadata": {},
   "outputs": [
    {
     "data": {
      "text/plain": [
       "0.8971708595884971"
      ]
     },
     "execution_count": 91,
     "metadata": {},
     "output_type": "execute_result"
    }
   ],
   "source": [
    "r2_score(y, y_pred)"
   ]
  },
  {
   "cell_type": "markdown",
   "metadata": {},
   "source": [
    "Modelimiz verileri %89 oranında açıklıyor. (Determinasyon katsayısı- R2)"
   ]
  },
  {
   "cell_type": "code",
   "execution_count": 93,
   "metadata": {},
   "outputs": [
    {
     "data": {
      "text/html": [
       "<div>\n",
       "<style scoped>\n",
       "    .dataframe tbody tr th:only-of-type {\n",
       "        vertical-align: middle;\n",
       "    }\n",
       "\n",
       "    .dataframe tbody tr th {\n",
       "        vertical-align: top;\n",
       "    }\n",
       "\n",
       "    .dataframe thead th {\n",
       "        text-align: right;\n",
       "    }\n",
       "</style>\n",
       "<table border=\"1\" class=\"dataframe\">\n",
       "  <thead>\n",
       "    <tr style=\"text-align: right;\">\n",
       "      <th></th>\n",
       "      <th>y</th>\n",
       "      <th>y_pred</th>\n",
       "    </tr>\n",
       "  </thead>\n",
       "  <tbody>\n",
       "    <tr>\n",
       "      <th>0</th>\n",
       "      <td>0.818695</td>\n",
       "      <td>0.803180</td>\n",
       "    </tr>\n",
       "    <tr>\n",
       "      <th>1</th>\n",
       "      <td>0.813926</td>\n",
       "      <td>0.730146</td>\n",
       "    </tr>\n",
       "    <tr>\n",
       "      <th>2</th>\n",
       "      <td>0.546119</td>\n",
       "      <td>0.400977</td>\n",
       "    </tr>\n",
       "    <tr>\n",
       "      <th>3</th>\n",
       "      <td>0.700501</td>\n",
       "      <td>0.628259</td>\n",
       "    </tr>\n",
       "    <tr>\n",
       "      <th>4</th>\n",
       "      <td>0.218170</td>\n",
       "      <td>0.248249</td>\n",
       "    </tr>\n",
       "    <tr>\n",
       "      <th>...</th>\n",
       "      <td>...</td>\n",
       "      <td>...</td>\n",
       "    </tr>\n",
       "    <tr>\n",
       "      <th>95</th>\n",
       "      <td>0.812981</td>\n",
       "      <td>0.829807</td>\n",
       "    </tr>\n",
       "    <tr>\n",
       "      <th>96</th>\n",
       "      <td>0.771826</td>\n",
       "      <td>0.656422</td>\n",
       "    </tr>\n",
       "    <tr>\n",
       "      <th>97</th>\n",
       "      <td>0.327690</td>\n",
       "      <td>0.311982</td>\n",
       "    </tr>\n",
       "    <tr>\n",
       "      <th>98</th>\n",
       "      <td>0.875813</td>\n",
       "      <td>0.824890</td>\n",
       "    </tr>\n",
       "    <tr>\n",
       "      <th>99</th>\n",
       "      <td>0.736270</td>\n",
       "      <td>0.785943</td>\n",
       "    </tr>\n",
       "  </tbody>\n",
       "</table>\n",
       "<p>100 rows × 2 columns</p>\n",
       "</div>"
      ],
      "text/plain": [
       "           y    y_pred\n",
       "0   0.818695  0.803180\n",
       "1   0.813926  0.730146\n",
       "2   0.546119  0.400977\n",
       "3   0.700501  0.628259\n",
       "4   0.218170  0.248249\n",
       "..       ...       ...\n",
       "95  0.812981  0.829807\n",
       "96  0.771826  0.656422\n",
       "97  0.327690  0.311982\n",
       "98  0.875813  0.824890\n",
       "99  0.736270  0.785943\n",
       "\n",
       "[100 rows x 2 columns]"
      ]
     },
     "execution_count": 93,
     "metadata": {},
     "output_type": "execute_result"
    }
   ],
   "source": [
    "df = pd.DataFrame({\"y\":y.values.flatten(), \"y_pred\":y_pred.flatten()})\n",
    "df\n",
    "# flatten() numpy modülüdür. Bütün verileri tek bir boyuta indirger düzleştirir."
   ]
  },
  {
   "cell_type": "markdown",
   "metadata": {},
   "source": [
    "Diğer Kullanacağımız Ölçütler:\n",
    "1. **Mean Absolute Error (MAE):** Ortalama Mutlak Hata MAE = 1/n * toplam(y - y_tahmin)\n",
    "2. **Mean Squared Error (MSE):** Ortalama Karesel Hata MSE = 1/n * toplam((y - y_tahmin)^2)\n",
    "3. **Root Mean Squared Error (RMSE):** Ortalama Mutlak Hatanın Karekökü RMSE = Kök(1/n * toplam((y - y_tahmin)^2))"
   ]
  },
  {
   "cell_type": "code",
   "execution_count": 96,
   "metadata": {},
   "outputs": [
    {
     "data": {
      "text/plain": [
       "0.08355988368688008"
      ]
     },
     "execution_count": 96,
     "metadata": {},
     "output_type": "execute_result"
    }
   ],
   "source": [
    "mean_squared_error(y, y_pred, squared=False)\n",
    "# squared=False yapınca RMSE\n",
    "# squared=True yapınca MSE yi veriyor\n",
    "\n",
    "# sonucun küçük olmasını isteriz çünkü burada hatalar söz konusu"
   ]
  },
  {
   "cell_type": "code",
   "execution_count": null,
   "metadata": {},
   "outputs": [],
   "source": [
    "# oldukça küçük bir değer diyebiliriz. güzel bir sonuç elde ettik."
   ]
  },
  {
   "cell_type": "markdown",
   "metadata": {},
   "source": [
    "* Regresyonun grafiğini çizdirelim. 2 boyutlu düzlemde çalıştığımız için 2 nokta bize yeter."
   ]
  },
  {
   "cell_type": "code",
   "execution_count": 97,
   "metadata": {},
   "outputs": [],
   "source": [
    "b0 = lineer_regresyon.intercept_[0].round(2)\n",
    "b1 = lineer_regresyon.coef_[0][0].round(2)"
   ]
  },
  {
   "cell_type": "code",
   "execution_count": 102,
   "metadata": {},
   "outputs": [
    {
     "data": {
      "image/png": "[encoded data removed]",
      "text/plain": [
       "<Figure size 432x288 with 1 Axes>"
      ]
     },
     "metadata": {
      "needs_background": "light"
     },
     "output_type": "display_data"
    }
   ],
   "source": [
    "random_x  = np.array([0,1])\n",
    "plt.plot(random_x, b0 + b1 * random_x , color = \"red\", label=\"regresyon\")\n",
    "plt.scatter(X.values, y.values)\n",
    "plt.legend\n",
    "plt.title(\"X ve Y arasındaki regresyon\");"
   ]
  },
  {
   "cell_type": "markdown",
   "metadata": {},
   "source": [
    "Demek ki en uygun çizgimiz buymuş. Bundan sonra bir değer tahmin etmek istiyorsam bu çizginin üzerinde bir yer tahmin edeceğim. Tabi sapmalarım olacaktır. Sapmalar ne kadar az olursa regresyon modelim o kadar kaliteli demektir."
   ]
  },
  {
   "cell_type": "code",
   "execution_count": null,
   "metadata": {},
   "outputs": [],
   "source": []
  }
 ],
 "metadata": {
  "kernelspec": {
   "display_name": "Python 3",
   "language": "python",
   "name": "python3"
  },
  "language_info": {
   "codemirror_mode": {
    "name": "ipython",
    "version": 3
   },
   "file_extension": ".py",
   "mimetype": "text/x-python",
   "name": "python",
   "nbconvert_exporter": "python",
   "pygments_lexer": "ipython3",
   "version": "3.8.5"
  }
 },
 "nbformat": 4,
 "nbformat_minor": 4
}
