{
 "cells": [
  {
   "cell_type": "code",
   "execution_count": 49,
   "metadata": {},
   "outputs": [],
   "source": [
    "from sklearn import datasets\n",
    "from sklearn.model_selection import train_test_split\n",
    "import math"
   ]
  },
  {
   "cell_type": "code",
   "execution_count": 22,
   "metadata": {},
   "outputs": [],
   "source": [
    "class KNN:\n",
    "    def __init__(self, k_value):\n",
    "        self.k = k_value\n",
    "\n",
    "# dist: Veriseti üzerindeki iki satırın/örneğin özellik değerlerinin uzaklığını hesaplamaktadır. \n",
    "# Bunun için Öklid uzaklık formülü kullanılmaktadır.\n",
    "    def dist(self, row0, row1): # Öklit\n",
    "        total=0\n",
    "        for i, j in zip(row0,row1):\n",
    "            total += math.pow(i-j, 2)\n",
    "        return math.sqrt(total)\n",
    "\n",
    "\n",
    "# get_nearest_neighbors: Parametre olarak aldığı örneği, veriseti üzerindeki diğer örneklerle\n",
    "# karşılaştırarak, herbirine olan uzaklığı hesaplamaktadır. Uzaklıkların tutulduğu distances listesi,\n",
    "# nihayetinde en yakından uzağa doğru sıralanır ve baştan k tanesi neighbors listesine eklenerek geri döndürülür.\n",
    "    def get_nearest_neighbors(self, row_to_search):\n",
    "        \n",
    "        distances, neighbors = [], []\n",
    "        \n",
    "        for i, x_row in enumerate(self.X_train):\n",
    "            d = self.dist(row_to_search, x_row)\n",
    "            distances.append([d,i])\n",
    "            \n",
    "        distances.sort(key = lambda x: x[0])\n",
    "        \n",
    "        \n",
    "        for i in range(self.k):\n",
    "             neighbors.append(distances[i])\n",
    "        return neighbors\n",
    "\n",
    "    \n",
    "# predict: Kullanıcıdan test ve eğitim örneklerini almaktadır.\n",
    "# Bahsettiğimiz gibi K-NN algoritması, model oluşturmaksızın çalışmaktadır.\n",
    "# Dolayısıyla buradaki eğitim örnekleri, doğrudan test örnekleriyle karşılaştırılarak kullanılmaktadır.\n",
    "# Her bir test örneği için en yakın k komşu hesaplanır ve bunların etiket değerleri targets listesine eklenir.\n",
    "# Listede en fazla bulunan etiket değeri de, test örneğinin etiket değeri olarak atanır ve bu şekilde tahmin edilen tüm örnekler, y_predict listesiyle geri döndürülür.\n",
    "    def predict(self, X_test, X_train, y_train):\n",
    "        \n",
    "        self.X_train, self.y_train = X_train, y_train\n",
    "        \n",
    "        y_predict = []\n",
    "        \n",
    "        for x_row in X_test:\n",
    "            \n",
    "            neighbors = self.get_nearest_neighbors(x_row)\n",
    "            \n",
    "            targets = []\n",
    "            \n",
    "            for n in neighbors:\n",
    "                ind = n[1]\n",
    "                targets.append(self.y_train[ind])\n",
    "            \n",
    "            y_predict.append(max(targets, key= targets.count))\n",
    "        return y_predict"
   ]
  },
  {
   "cell_type": "code",
   "execution_count": 23,
   "metadata": {},
   "outputs": [],
   "source": [
    "iris = datasets.load_iris()"
   ]
  },
  {
   "cell_type": "code",
   "execution_count": 24,
   "metadata": {},
   "outputs": [],
   "source": [
    "x_train, x_test, y_train, y_test = train_test_split(\n",
    "    iris['data'],\n",
    "    iris['target'],\n",
    "    test_size = 0.33,\n",
    "    random_state = 0)\n",
    "\n",
    "knn = KNN(k_value=5)\n",
    "\n",
    "y_pred = knn.predict(x_test, x_train, y_train)"
   ]
  },
  {
   "cell_type": "code",
   "execution_count": 29,
   "metadata": {},
   "outputs": [
    {
     "data": {
      "text/plain": [
       "[2,\n",
       " 1,\n",
       " 0,\n",
       " 2,\n",
       " 0,\n",
       " 2,\n",
       " 0,\n",
       " 1,\n",
       " 1,\n",
       " 1,\n",
       " 2,\n",
       " 1,\n",
       " 1,\n",
       " 1,\n",
       " 1,\n",
       " 0,\n",
       " 1,\n",
       " 1,\n",
       " 0,\n",
       " 0,\n",
       " 2,\n",
       " 1,\n",
       " 0,\n",
       " 0,\n",
       " 2,\n",
       " 0,\n",
       " 0,\n",
       " 1,\n",
       " 1,\n",
       " 0,\n",
       " 2,\n",
       " 1,\n",
       " 0,\n",
       " 2,\n",
       " 2,\n",
       " 1,\n",
       " 0,\n",
       " 2,\n",
       " 1,\n",
       " 1,\n",
       " 2,\n",
       " 0,\n",
       " 2,\n",
       " 0,\n",
       " 0,\n",
       " 1,\n",
       " 2,\n",
       " 2,\n",
       " 2,\n",
       " 2]"
      ]
     },
     "execution_count": 29,
     "metadata": {},
     "output_type": "execute_result"
    }
   ],
   "source": [
    "y_pred # Tahminler # y_test gerçekler"
   ]
  },
  {
   "cell_type": "code",
   "execution_count": 26,
   "metadata": {},
   "outputs": [],
   "source": [
    "from sklearn import metrics"
   ]
  },
  {
   "cell_type": "markdown",
   "metadata": {},
   "source": [
    "* #### Hata matriksini oluşturlarım"
   ]
  },
  {
   "cell_type": "code",
   "execution_count": 27,
   "metadata": {},
   "outputs": [
    {
     "data": {
      "text/plain": [
       "array([[16,  0,  0],\n",
       "       [ 0, 18,  1],\n",
       "       [ 0,  0, 15]], dtype=int64)"
      ]
     },
     "execution_count": 27,
     "metadata": {},
     "output_type": "execute_result"
    }
   ],
   "source": [
    "metrics.confusion_matrix(y_test ,y_pred)"
   ]
  },
  {
   "cell_type": "markdown",
   "metadata": {},
   "source": [
    "### Hata Matrisinden Elde Edilen Bazı Metrikler\n",
    "#### Doğruluk (Classification Accuracy)\n",
    "> **Doğruluk = TN + TP / TOPLAM**\n",
    "\n",
    "Şimdi Python ile bunu yapalım:"
   ]
  },
  {
   "cell_type": "code",
   "execution_count": 28,
   "metadata": {
    "scrolled": false
   },
   "outputs": [
    {
     "data": {
      "text/plain": [
       "0.98"
      ]
     },
     "execution_count": 28,
     "metadata": {},
     "output_type": "execute_result"
    }
   ],
   "source": [
    "metrics.accuracy_score(y_test, y_pred)"
   ]
  },
  {
   "cell_type": "markdown",
   "metadata": {},
   "source": [
    "### Hata Oranı (Error Rate / Misclassification Rate)\n",
    "> **Hata Oranı = FN + FP / TOPLAM**\n",
    "\n",
    "veya\n",
    "\n",
    "> **1 - dogruluk**"
   ]
  },
  {
   "cell_type": "code",
   "execution_count": 31,
   "metadata": {},
   "outputs": [
    {
     "data": {
      "text/plain": [
       "0.020000000000000018"
      ]
     },
     "execution_count": 31,
     "metadata": {},
     "output_type": "execute_result"
    }
   ],
   "source": [
    "1- metrics.accuracy_score(y_test,y_pred)"
   ]
  },
  {
   "cell_type": "markdown",
   "metadata": {},
   "source": [
    "### Precision\n",
    "> **Precision = TP/(FP+TP)** \n",
    "\n",
    "Yani pozitif tahminlerin toplam pozitiflere oranı."
   ]
  },
  {
   "cell_type": "code",
   "execution_count": 36,
   "metadata": {},
   "outputs": [
    {
     "data": {
      "text/plain": [
       "0.98"
      ]
     },
     "execution_count": 36,
     "metadata": {},
     "output_type": "execute_result"
    }
   ],
   "source": [
    "metrics.precision_score(y_test,y_pred, average='micro')"
   ]
  }
 ],
 "metadata": {
  "kernelspec": {
   "display_name": "Python 3 (ipykernel)",
   "language": "python",
   "name": "python3"
  },
  "language_info": {
   "codemirror_mode": {
    "name": "ipython",
    "version": 3
   },
   "file_extension": ".py",
   "mimetype": "text/x-python",
   "name": "python",
   "nbconvert_exporter": "python",
   "pygments_lexer": "ipython3",
   "version": "3.9.7"
  }
 },
 "nbformat": 4,
 "nbformat_minor": 4
}
