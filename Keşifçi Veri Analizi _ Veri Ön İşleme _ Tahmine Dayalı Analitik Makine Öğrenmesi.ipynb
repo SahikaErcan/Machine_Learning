{
 "cells": [
  {
   "cell_type": "code",
   "execution_count": 1,
   "metadata": {
    "scrolled": true
   },
   "outputs": [
    {
     "name": "stdout",
     "output_type": "stream",
     "text": [
      "Requirement already satisfied: plotly in c:\\users\\excalibur\\anaconda3\\lib\\site-packages (5.3.1)\n",
      "Requirement already satisfied: six in c:\\users\\excalibur\\anaconda3\\lib\\site-packages (from plotly) (1.15.0)\n",
      "Requirement already satisfied: tenacity>=6.2.0 in c:\\users\\excalibur\\anaconda3\\lib\\site-packages (from plotly) (8.0.1)\n"
     ]
    }
   ],
   "source": [
    "!pip install plotly"
   ]
  },
  {
   "cell_type": "code",
   "execution_count": 2,
   "metadata": {},
   "outputs": [
    {
     "data": {
      "text/html": [
       "        <script type=\"text/javascript\">\n",
       "        window.PlotlyConfig = {MathJaxConfig: 'local'};\n",
       "        if (window.MathJax) {MathJax.Hub.Config({SVG: {font: \"STIX-Web\"}});}\n",
       "        if (typeof require !== 'undefined') {\n",
       "        require.undef(\"plotly\");\n",
       "        requirejs.config({\n",
       "            paths: {\n",
       "                'plotly': ['https://cdn.plot.ly/plotly-2.4.2.min']\n",
       "            }\n",
       "        });\n",
       "        require(['plotly'], function(Plotly) {\n",
       "            window._Plotly = Plotly;\n",
       "        });\n",
       "        }\n",
       "        </script>\n",
       "        "
      ]
     },
     "metadata": {},
     "output_type": "display_data"
    }
   ],
   "source": [
    "import numpy as np\n",
    "import pandas as pd\n",
    "import seaborn as sns\n",
    "import matplotlib.pyplot as plt\n",
    "import missingno as msno\n",
    "import plotly as py\n",
    "import plotly.graph_objs as go\n",
    "from plotly.offline import init_notebook_mode, iplot, plot\n",
    "\n",
    "init_notebook_mode(connected=True)\n",
    "\n",
    "from sklearn import ensemble\n",
    "\n",
    "from sklearn.preprocessing import LabelEncoder\n",
    "\n",
    "from sklearn.model_selection import GridSearchCV, cross_val_score\n",
    "from sklearn.model_selection import train_test_split\n",
    "\n",
    "from sklearn.metrics import confusion_matrix, accuracy_score, roc_auc_score, roc_curve, classification_report\n",
    "from sklearn.metrics import roc_auc_score, roc_curve\n",
    "from sklearn.metrics import recall_score, f1_score, precision_score\n",
    "from sklearn.metrics import confusion_matrix as cm\n",
    "\n",
    "from sklearn.neighbors import KNeighborsClassifier\n",
    "\n",
    "from sklearn.tree import DecisionTreeClassifier\n",
    "\n",
    "from sklearn.naive_bayes import GaussianNB\n",
    "\n",
    "from warnings import filterwarnings\n",
    "\n",
    "filterwarnings(\"ignore\")"
   ]
  },
  {
   "cell_type": "code",
   "execution_count": 3,
   "metadata": {},
   "outputs": [
    {
     "data": {
      "text/html": [
       "<div>\n",
       "<style scoped>\n",
       "    .dataframe tbody tr th:only-of-type {\n",
       "        vertical-align: middle;\n",
       "    }\n",
       "\n",
       "    .dataframe tbody tr th {\n",
       "        vertical-align: top;\n",
       "    }\n",
       "\n",
       "    .dataframe thead th {\n",
       "        text-align: right;\n",
       "    }\n",
       "</style>\n",
       "<table border=\"1\" class=\"dataframe\">\n",
       "  <thead>\n",
       "    <tr style=\"text-align: right;\">\n",
       "      <th></th>\n",
       "      <th>BataryaGucu</th>\n",
       "      <th>Bluetooth</th>\n",
       "      <th>MikroislemciHizi</th>\n",
       "      <th>CiftHat</th>\n",
       "      <th>OnKameraMP</th>\n",
       "      <th>4G</th>\n",
       "      <th>DahiliBellek</th>\n",
       "      <th>Kalinlik</th>\n",
       "      <th>Agirlik</th>\n",
       "      <th>CekirdekSayisi</th>\n",
       "      <th>ArkaKameraMP</th>\n",
       "      <th>CozunurlukYükseklik</th>\n",
       "      <th>CozunurlukGenislik</th>\n",
       "      <th>RAM</th>\n",
       "      <th>BataryaOmru</th>\n",
       "      <th>3G</th>\n",
       "      <th>Dokunmatik</th>\n",
       "      <th>WiFi</th>\n",
       "      <th>FiyatAraligi</th>\n",
       "      <th>Renk</th>\n",
       "    </tr>\n",
       "  </thead>\n",
       "  <tbody>\n",
       "    <tr>\n",
       "      <th>0</th>\n",
       "      <td>1325</td>\n",
       "      <td>Yok</td>\n",
       "      <td>1.9</td>\n",
       "      <td>Yok</td>\n",
       "      <td>2.0</td>\n",
       "      <td>Yok</td>\n",
       "      <td>50</td>\n",
       "      <td>0.1</td>\n",
       "      <td>146</td>\n",
       "      <td>1</td>\n",
       "      <td>10</td>\n",
       "      <td>499</td>\n",
       "      <td>695</td>\n",
       "      <td>2328.0</td>\n",
       "      <td>2</td>\n",
       "      <td>Var</td>\n",
       "      <td>Yok</td>\n",
       "      <td>Yok</td>\n",
       "      <td>Normal</td>\n",
       "      <td>Beyaz</td>\n",
       "    </tr>\n",
       "    <tr>\n",
       "      <th>1</th>\n",
       "      <td>1046</td>\n",
       "      <td>Var</td>\n",
       "      <td>2.8</td>\n",
       "      <td>Var</td>\n",
       "      <td>0.0</td>\n",
       "      <td>Var</td>\n",
       "      <td>58</td>\n",
       "      <td>0.2</td>\n",
       "      <td>100</td>\n",
       "      <td>8</td>\n",
       "      <td>0</td>\n",
       "      <td>259</td>\n",
       "      <td>1040</td>\n",
       "      <td>3863.0</td>\n",
       "      <td>9</td>\n",
       "      <td>Var</td>\n",
       "      <td>Var</td>\n",
       "      <td>Var</td>\n",
       "      <td>Pahalı</td>\n",
       "      <td>Pembe</td>\n",
       "    </tr>\n",
       "    <tr>\n",
       "      <th>2</th>\n",
       "      <td>843</td>\n",
       "      <td>Yok</td>\n",
       "      <td>1.3</td>\n",
       "      <td>Var</td>\n",
       "      <td>1.0</td>\n",
       "      <td>Yok</td>\n",
       "      <td>16</td>\n",
       "      <td>0.9</td>\n",
       "      <td>119</td>\n",
       "      <td>7</td>\n",
       "      <td>4</td>\n",
       "      <td>593</td>\n",
       "      <td>732</td>\n",
       "      <td>1734.0</td>\n",
       "      <td>14</td>\n",
       "      <td>Yok</td>\n",
       "      <td>Yok</td>\n",
       "      <td>Var</td>\n",
       "      <td>Ucuz</td>\n",
       "      <td>Mor</td>\n",
       "    </tr>\n",
       "    <tr>\n",
       "      <th>3</th>\n",
       "      <td>894</td>\n",
       "      <td>Yok</td>\n",
       "      <td>0.5</td>\n",
       "      <td>Var</td>\n",
       "      <td>1.0</td>\n",
       "      <td>Var</td>\n",
       "      <td>50</td>\n",
       "      <td>0.5</td>\n",
       "      <td>199</td>\n",
       "      <td>3</td>\n",
       "      <td>14</td>\n",
       "      <td>1285</td>\n",
       "      <td>1462</td>\n",
       "      <td>3615.0</td>\n",
       "      <td>6</td>\n",
       "      <td>Var</td>\n",
       "      <td>Yok</td>\n",
       "      <td>Var</td>\n",
       "      <td>Pahalı</td>\n",
       "      <td>Turuncu</td>\n",
       "    </tr>\n",
       "    <tr>\n",
       "      <th>4</th>\n",
       "      <td>936</td>\n",
       "      <td>Yok</td>\n",
       "      <td>1.0</td>\n",
       "      <td>Yok</td>\n",
       "      <td>1.0</td>\n",
       "      <td>Yok</td>\n",
       "      <td>18</td>\n",
       "      <td>0.2</td>\n",
       "      <td>153</td>\n",
       "      <td>3</td>\n",
       "      <td>18</td>\n",
       "      <td>1330</td>\n",
       "      <td>1686</td>\n",
       "      <td>2391.0</td>\n",
       "      <td>3</td>\n",
       "      <td>Var</td>\n",
       "      <td>Var</td>\n",
       "      <td>Var</td>\n",
       "      <td>Normal</td>\n",
       "      <td>Beyaz</td>\n",
       "    </tr>\n",
       "  </tbody>\n",
       "</table>\n",
       "</div>"
      ],
      "text/plain": [
       "   BataryaGucu Bluetooth  MikroislemciHizi CiftHat  OnKameraMP   4G  \\\n",
       "0         1325       Yok               1.9     Yok         2.0  Yok   \n",
       "1         1046       Var               2.8     Var         0.0  Var   \n",
       "2          843       Yok               1.3     Var         1.0  Yok   \n",
       "3          894       Yok               0.5     Var         1.0  Var   \n",
       "4          936       Yok               1.0     Yok         1.0  Yok   \n",
       "\n",
       "   DahiliBellek  Kalinlik  Agirlik  CekirdekSayisi  ArkaKameraMP  \\\n",
       "0            50       0.1      146               1            10   \n",
       "1            58       0.2      100               8             0   \n",
       "2            16       0.9      119               7             4   \n",
       "3            50       0.5      199               3            14   \n",
       "4            18       0.2      153               3            18   \n",
       "\n",
       "   CozunurlukYükseklik  CozunurlukGenislik     RAM  BataryaOmru   3G  \\\n",
       "0                  499                 695  2328.0            2  Var   \n",
       "1                  259                1040  3863.0            9  Var   \n",
       "2                  593                 732  1734.0           14  Yok   \n",
       "3                 1285                1462  3615.0            6  Var   \n",
       "4                 1330                1686  2391.0            3  Var   \n",
       "\n",
       "  Dokunmatik WiFi FiyatAraligi     Renk  \n",
       "0        Yok  Yok       Normal    Beyaz  \n",
       "1        Var  Var       Pahalı    Pembe  \n",
       "2        Yok  Var         Ucuz      Mor  \n",
       "3        Yok  Var       Pahalı  Turuncu  \n",
       "4        Var  Var       Normal    Beyaz  "
      ]
     },
     "execution_count": 3,
     "metadata": {},
     "output_type": "execute_result"
    }
   ],
   "source": [
    "df = pd.read_csv(\"tablet.csv\")\n",
    "df.head()"
   ]
  },
  {
   "cell_type": "markdown",
   "metadata": {},
   "source": [
    "## Keşifçi Veri Analizi (EDA)"
   ]
  },
  {
   "cell_type": "code",
   "execution_count": 4,
   "metadata": {
    "collapsed": true
   },
   "outputs": [
    {
     "data": {
      "text/plain": [
       "(2000, 20)"
      ]
     },
     "execution_count": 4,
     "metadata": {},
     "output_type": "execute_result"
    }
   ],
   "source": [
    "df.shape"
   ]
  },
  {
   "cell_type": "code",
   "execution_count": 5,
   "metadata": {
    "collapsed": true
   },
   "outputs": [
    {
     "name": "stdout",
     "output_type": "stream",
     "text": [
      "<class 'pandas.core.frame.DataFrame'>\n",
      "RangeIndex: 2000 entries, 0 to 1999\n",
      "Data columns (total 20 columns):\n",
      " #   Column               Non-Null Count  Dtype  \n",
      "---  ------               --------------  -----  \n",
      " 0   BataryaGucu          2000 non-null   int64  \n",
      " 1   Bluetooth            2000 non-null   object \n",
      " 2   MikroislemciHizi     2000 non-null   float64\n",
      " 3   CiftHat              2000 non-null   object \n",
      " 4   OnKameraMP           1995 non-null   float64\n",
      " 5   4G                   2000 non-null   object \n",
      " 6   DahiliBellek         2000 non-null   int64  \n",
      " 7   Kalinlik             2000 non-null   float64\n",
      " 8   Agirlik              2000 non-null   int64  \n",
      " 9   CekirdekSayisi       2000 non-null   int64  \n",
      " 10  ArkaKameraMP         2000 non-null   int64  \n",
      " 11  CozunurlukYükseklik  2000 non-null   int64  \n",
      " 12  CozunurlukGenislik   2000 non-null   int64  \n",
      " 13  RAM                  1988 non-null   float64\n",
      " 14  BataryaOmru          2000 non-null   int64  \n",
      " 15  3G                   2000 non-null   object \n",
      " 16  Dokunmatik           2000 non-null   object \n",
      " 17  WiFi                 2000 non-null   object \n",
      " 18  FiyatAraligi         2000 non-null   object \n",
      " 19  Renk                 2000 non-null   object \n",
      "dtypes: float64(4), int64(8), object(8)\n",
      "memory usage: 312.6+ KB\n"
     ]
    }
   ],
   "source": [
    "df.info()"
   ]
  },
  {
   "cell_type": "markdown",
   "metadata": {},
   "source": [
    "Hedef değişkenin ne kadar dengeli dağıldığını gözlemleyelim. (Hedef değişken = Fiyat Aralığı)"
   ]
  },
  {
   "cell_type": "code",
   "execution_count": 6,
   "metadata": {
    "collapsed": true
   },
   "outputs": [
    {
     "data": {
      "text/plain": [
       "Normal      500\n",
       "Pahalı      500\n",
       "Ucuz        500\n",
       "Çok Ucuz    500\n",
       "Name: FiyatAraligi, dtype: int64"
      ]
     },
     "execution_count": 6,
     "metadata": {},
     "output_type": "execute_result"
    }
   ],
   "source": [
    "df.FiyatAraligi.value_counts()"
   ]
  },
  {
   "cell_type": "code",
   "execution_count": 7,
   "metadata": {},
   "outputs": [
    {
     "data": {
      "image/png": "[encoded data removed]",
      "text/plain": [
       "<Figure size 432x288 with 1 Axes>"
      ]
     },
     "metadata": {
      "needs_background": "light"
     },
     "output_type": "display_data"
    }
   ],
   "source": [
    "# Görselleştirelim...\n",
    "sns.countplot(x = \"FiyatAraligi\", data=df);"
   ]
  },
  {
   "cell_type": "markdown",
   "metadata": {},
   "source": [
    "Sayısal değişkenler arasında **korelasyon** olup olmadığını gözlemleyelim.\n",
    "> En güçlü pozitif ilişki hangi iki değişken arasındadır?"
   ]
  },
  {
   "cell_type": "code",
   "execution_count": 8,
   "metadata": {
    "scrolled": true
   },
   "outputs": [
    {
     "data": {
      "text/html": [
       "<div>\n",
       "<style scoped>\n",
       "    .dataframe tbody tr th:only-of-type {\n",
       "        vertical-align: middle;\n",
       "    }\n",
       "\n",
       "    .dataframe tbody tr th {\n",
       "        vertical-align: top;\n",
       "    }\n",
       "\n",
       "    .dataframe thead th {\n",
       "        text-align: right;\n",
       "    }\n",
       "</style>\n",
       "<table border=\"1\" class=\"dataframe\">\n",
       "  <thead>\n",
       "    <tr style=\"text-align: right;\">\n",
       "      <th></th>\n",
       "      <th>BataryaGucu</th>\n",
       "      <th>MikroislemciHizi</th>\n",
       "      <th>OnKameraMP</th>\n",
       "      <th>DahiliBellek</th>\n",
       "      <th>Kalinlik</th>\n",
       "      <th>Agirlik</th>\n",
       "      <th>CekirdekSayisi</th>\n",
       "      <th>ArkaKameraMP</th>\n",
       "      <th>CozunurlukYükseklik</th>\n",
       "      <th>CozunurlukGenislik</th>\n",
       "      <th>RAM</th>\n",
       "      <th>BataryaOmru</th>\n",
       "    </tr>\n",
       "  </thead>\n",
       "  <tbody>\n",
       "    <tr>\n",
       "      <th>BataryaGucu</th>\n",
       "      <td>1.000000</td>\n",
       "      <td>0.011482</td>\n",
       "      <td>0.032167</td>\n",
       "      <td>-0.004004</td>\n",
       "      <td>0.034085</td>\n",
       "      <td>0.001844</td>\n",
       "      <td>-0.029727</td>\n",
       "      <td>0.031441</td>\n",
       "      <td>0.014901</td>\n",
       "      <td>-0.008402</td>\n",
       "      <td>-0.000883</td>\n",
       "      <td>0.052510</td>\n",
       "    </tr>\n",
       "    <tr>\n",
       "      <th>MikroislemciHizi</th>\n",
       "      <td>0.011482</td>\n",
       "      <td>1.000000</td>\n",
       "      <td>-0.000172</td>\n",
       "      <td>0.006545</td>\n",
       "      <td>-0.014364</td>\n",
       "      <td>0.012350</td>\n",
       "      <td>-0.005724</td>\n",
       "      <td>-0.005245</td>\n",
       "      <td>-0.014523</td>\n",
       "      <td>-0.009476</td>\n",
       "      <td>0.003969</td>\n",
       "      <td>-0.011432</td>\n",
       "    </tr>\n",
       "    <tr>\n",
       "      <th>OnKameraMP</th>\n",
       "      <td>0.032167</td>\n",
       "      <td>-0.000172</td>\n",
       "      <td>1.000000</td>\n",
       "      <td>-0.028642</td>\n",
       "      <td>-0.001723</td>\n",
       "      <td>0.024585</td>\n",
       "      <td>-0.013721</td>\n",
       "      <td>0.645697</td>\n",
       "      <td>-0.010662</td>\n",
       "      <td>-0.005646</td>\n",
       "      <td>0.012528</td>\n",
       "      <td>-0.007121</td>\n",
       "    </tr>\n",
       "    <tr>\n",
       "      <th>DahiliBellek</th>\n",
       "      <td>-0.004004</td>\n",
       "      <td>0.006545</td>\n",
       "      <td>-0.028642</td>\n",
       "      <td>1.000000</td>\n",
       "      <td>0.006886</td>\n",
       "      <td>-0.034214</td>\n",
       "      <td>-0.028310</td>\n",
       "      <td>-0.033273</td>\n",
       "      <td>0.010441</td>\n",
       "      <td>-0.008335</td>\n",
       "      <td>0.032883</td>\n",
       "      <td>-0.002790</td>\n",
       "    </tr>\n",
       "    <tr>\n",
       "      <th>Kalinlik</th>\n",
       "      <td>0.034085</td>\n",
       "      <td>-0.014364</td>\n",
       "      <td>-0.001723</td>\n",
       "      <td>0.006886</td>\n",
       "      <td>1.000000</td>\n",
       "      <td>0.021756</td>\n",
       "      <td>-0.003504</td>\n",
       "      <td>0.026282</td>\n",
       "      <td>0.025263</td>\n",
       "      <td>0.023566</td>\n",
       "      <td>-0.007293</td>\n",
       "      <td>0.017003</td>\n",
       "    </tr>\n",
       "    <tr>\n",
       "      <th>Agirlik</th>\n",
       "      <td>0.001844</td>\n",
       "      <td>0.012350</td>\n",
       "      <td>0.024585</td>\n",
       "      <td>-0.034214</td>\n",
       "      <td>0.021756</td>\n",
       "      <td>1.000000</td>\n",
       "      <td>-0.018989</td>\n",
       "      <td>0.018844</td>\n",
       "      <td>0.000939</td>\n",
       "      <td>0.000090</td>\n",
       "      <td>-0.002536</td>\n",
       "      <td>0.006209</td>\n",
       "    </tr>\n",
       "    <tr>\n",
       "      <th>CekirdekSayisi</th>\n",
       "      <td>-0.029727</td>\n",
       "      <td>-0.005724</td>\n",
       "      <td>-0.013721</td>\n",
       "      <td>-0.028310</td>\n",
       "      <td>-0.003504</td>\n",
       "      <td>-0.018989</td>\n",
       "      <td>1.000000</td>\n",
       "      <td>-0.001193</td>\n",
       "      <td>-0.006872</td>\n",
       "      <td>0.024480</td>\n",
       "      <td>0.005576</td>\n",
       "      <td>0.013148</td>\n",
       "    </tr>\n",
       "    <tr>\n",
       "      <th>ArkaKameraMP</th>\n",
       "      <td>0.031441</td>\n",
       "      <td>-0.005245</td>\n",
       "      <td>0.645697</td>\n",
       "      <td>-0.033273</td>\n",
       "      <td>0.026282</td>\n",
       "      <td>0.018844</td>\n",
       "      <td>-0.001193</td>\n",
       "      <td>1.000000</td>\n",
       "      <td>-0.018465</td>\n",
       "      <td>0.004196</td>\n",
       "      <td>0.029540</td>\n",
       "      <td>0.014657</td>\n",
       "    </tr>\n",
       "    <tr>\n",
       "      <th>CozunurlukYükseklik</th>\n",
       "      <td>0.014901</td>\n",
       "      <td>-0.014523</td>\n",
       "      <td>-0.010662</td>\n",
       "      <td>0.010441</td>\n",
       "      <td>0.025263</td>\n",
       "      <td>0.000939</td>\n",
       "      <td>-0.006872</td>\n",
       "      <td>-0.018465</td>\n",
       "      <td>1.000000</td>\n",
       "      <td>0.510664</td>\n",
       "      <td>-0.023421</td>\n",
       "      <td>-0.010645</td>\n",
       "    </tr>\n",
       "    <tr>\n",
       "      <th>CozunurlukGenislik</th>\n",
       "      <td>-0.008402</td>\n",
       "      <td>-0.009476</td>\n",
       "      <td>-0.005646</td>\n",
       "      <td>-0.008335</td>\n",
       "      <td>0.023566</td>\n",
       "      <td>0.000090</td>\n",
       "      <td>0.024480</td>\n",
       "      <td>0.004196</td>\n",
       "      <td>0.510664</td>\n",
       "      <td>1.000000</td>\n",
       "      <td>0.002101</td>\n",
       "      <td>0.006720</td>\n",
       "    </tr>\n",
       "    <tr>\n",
       "      <th>RAM</th>\n",
       "      <td>-0.000883</td>\n",
       "      <td>0.003969</td>\n",
       "      <td>0.012528</td>\n",
       "      <td>0.032883</td>\n",
       "      <td>-0.007293</td>\n",
       "      <td>-0.002536</td>\n",
       "      <td>0.005576</td>\n",
       "      <td>0.029540</td>\n",
       "      <td>-0.023421</td>\n",
       "      <td>0.002101</td>\n",
       "      <td>1.000000</td>\n",
       "      <td>0.010444</td>\n",
       "    </tr>\n",
       "    <tr>\n",
       "      <th>BataryaOmru</th>\n",
       "      <td>0.052510</td>\n",
       "      <td>-0.011432</td>\n",
       "      <td>-0.007121</td>\n",
       "      <td>-0.002790</td>\n",
       "      <td>0.017003</td>\n",
       "      <td>0.006209</td>\n",
       "      <td>0.013148</td>\n",
       "      <td>0.014657</td>\n",
       "      <td>-0.010645</td>\n",
       "      <td>0.006720</td>\n",
       "      <td>0.010444</td>\n",
       "      <td>1.000000</td>\n",
       "    </tr>\n",
       "  </tbody>\n",
       "</table>\n",
       "</div>"
      ],
      "text/plain": [
       "                     BataryaGucu  MikroislemciHizi  OnKameraMP  DahiliBellek  \\\n",
       "BataryaGucu             1.000000          0.011482    0.032167     -0.004004   \n",
       "MikroislemciHizi        0.011482          1.000000   -0.000172      0.006545   \n",
       "OnKameraMP              0.032167         -0.000172    1.000000     -0.028642   \n",
       "DahiliBellek           -0.004004          0.006545   -0.028642      1.000000   \n",
       "Kalinlik                0.034085         -0.014364   -0.001723      0.006886   \n",
       "Agirlik                 0.001844          0.012350    0.024585     -0.034214   \n",
       "CekirdekSayisi         -0.029727         -0.005724   -0.013721     -0.028310   \n",
       "ArkaKameraMP            0.031441         -0.005245    0.645697     -0.033273   \n",
       "CozunurlukYükseklik     0.014901         -0.014523   -0.010662      0.010441   \n",
       "CozunurlukGenislik     -0.008402         -0.009476   -0.005646     -0.008335   \n",
       "RAM                    -0.000883          0.003969    0.012528      0.032883   \n",
       "BataryaOmru             0.052510         -0.011432   -0.007121     -0.002790   \n",
       "\n",
       "                     Kalinlik   Agirlik  CekirdekSayisi  ArkaKameraMP  \\\n",
       "BataryaGucu          0.034085  0.001844       -0.029727      0.031441   \n",
       "MikroislemciHizi    -0.014364  0.012350       -0.005724     -0.005245   \n",
       "OnKameraMP          -0.001723  0.024585       -0.013721      0.645697   \n",
       "DahiliBellek         0.006886 -0.034214       -0.028310     -0.033273   \n",
       "Kalinlik             1.000000  0.021756       -0.003504      0.026282   \n",
       "Agirlik              0.021756  1.000000       -0.018989      0.018844   \n",
       "CekirdekSayisi      -0.003504 -0.018989        1.000000     -0.001193   \n",
       "ArkaKameraMP         0.026282  0.018844       -0.001193      1.000000   \n",
       "CozunurlukYükseklik  0.025263  0.000939       -0.006872     -0.018465   \n",
       "CozunurlukGenislik   0.023566  0.000090        0.024480      0.004196   \n",
       "RAM                 -0.007293 -0.002536        0.005576      0.029540   \n",
       "BataryaOmru          0.017003  0.006209        0.013148      0.014657   \n",
       "\n",
       "                     CozunurlukYükseklik  CozunurlukGenislik       RAM  \\\n",
       "BataryaGucu                     0.014901           -0.008402 -0.000883   \n",
       "MikroislemciHizi               -0.014523           -0.009476  0.003969   \n",
       "OnKameraMP                     -0.010662           -0.005646  0.012528   \n",
       "DahiliBellek                    0.010441           -0.008335  0.032883   \n",
       "Kalinlik                        0.025263            0.023566 -0.007293   \n",
       "Agirlik                         0.000939            0.000090 -0.002536   \n",
       "CekirdekSayisi                 -0.006872            0.024480  0.005576   \n",
       "ArkaKameraMP                   -0.018465            0.004196  0.029540   \n",
       "CozunurlukYükseklik             1.000000            0.510664 -0.023421   \n",
       "CozunurlukGenislik              0.510664            1.000000  0.002101   \n",
       "RAM                            -0.023421            0.002101  1.000000   \n",
       "BataryaOmru                    -0.010645            0.006720  0.010444   \n",
       "\n",
       "                     BataryaOmru  \n",
       "BataryaGucu             0.052510  \n",
       "MikroislemciHizi       -0.011432  \n",
       "OnKameraMP             -0.007121  \n",
       "DahiliBellek           -0.002790  \n",
       "Kalinlik                0.017003  \n",
       "Agirlik                 0.006209  \n",
       "CekirdekSayisi          0.013148  \n",
       "ArkaKameraMP            0.014657  \n",
       "CozunurlukYükseklik    -0.010645  \n",
       "CozunurlukGenislik      0.006720  \n",
       "RAM                     0.010444  \n",
       "BataryaOmru             1.000000  "
      ]
     },
     "execution_count": 8,
     "metadata": {},
     "output_type": "execute_result"
    }
   ],
   "source": [
    "corr = df.corr()\n",
    "corr"
   ]
  },
  {
   "cell_type": "markdown",
   "metadata": {},
   "source": [
    "Korelasyon katsayısı “r” ile gösterilir ve -1 ile +1 arasında değerler alır.\n",
    "\n",
    "• r= -1 ise tam negatif doğrusal bir ilişki vardır.\n",
    "\n",
    "• r= +1 ise tam pozitif doğrusal bir ilişki vardır.\n",
    "\n",
    "• r= 0 ise iki değişken arasında ilişki yoktur.\n",
    "\n",
    "Bu bağlamda r= İlişki için çıkan sonuçlar aşağıdaki aralıklara göre şu şekilde yorumlanır:\n",
    "\n",
    "    0.00 ilişki yok\n",
    "    0.01 – 0.29 düşük düzeyde ilişki\n",
    "    0.30 – 0.70 orta düzeyde ilişki\n",
    "    0.71 – 0.99 yüksek düzeyde ilişki\n",
    "    1.00 mükemmel ilişki"
   ]
  },
  {
   "cell_type": "markdown",
   "metadata": {},
   "source": [
    "* **Yukarıdaki tabloya göre en güçlü pozitif ilişki \"ArkaKameraMP\" ve \"OnKameraMP\" arasındadır.** Aralarındaki korelasyon katsayısı 0.645697'dir."
   ]
  },
  {
   "cell_type": "code",
   "execution_count": 9,
   "metadata": {},
   "outputs": [
    {
     "data": {
      "image/png": "[encoded data removed]",
      "text/plain": [
       "<Figure size 1080x1080 with 2 Axes>"
      ]
     },
     "metadata": {
      "needs_background": "light"
     },
     "output_type": "display_data"
    }
   ],
   "source": [
    "# korelasyon katsayılarını daha iyi gözlemleyebilmek için ısı haritası çizdirelim.\n",
    "plt.figure(figsize=(15,15))\n",
    "sns.heatmap(corr, \n",
    "            annot=True,\n",
    "            xticklabels=corr.columns.values,\n",
    "            yticklabels=corr.columns.values);"
   ]
  },
  {
   "cell_type": "markdown",
   "metadata": {},
   "source": [
    "> Sayısal değişkenler arasındaki temel istatistik değerlerini gözlemleyelim."
   ]
  },
  {
   "cell_type": "code",
   "execution_count": 10,
   "metadata": {},
   "outputs": [
    {
     "data": {
      "text/html": [
       "<div>\n",
       "<style scoped>\n",
       "    .dataframe tbody tr th:only-of-type {\n",
       "        vertical-align: middle;\n",
       "    }\n",
       "\n",
       "    .dataframe tbody tr th {\n",
       "        vertical-align: top;\n",
       "    }\n",
       "\n",
       "    .dataframe thead th {\n",
       "        text-align: right;\n",
       "    }\n",
       "</style>\n",
       "<table border=\"1\" class=\"dataframe\">\n",
       "  <thead>\n",
       "    <tr style=\"text-align: right;\">\n",
       "      <th></th>\n",
       "      <th>BataryaGucu</th>\n",
       "      <th>MikroislemciHizi</th>\n",
       "      <th>OnKameraMP</th>\n",
       "      <th>DahiliBellek</th>\n",
       "      <th>Kalinlik</th>\n",
       "      <th>Agirlik</th>\n",
       "      <th>CekirdekSayisi</th>\n",
       "      <th>ArkaKameraMP</th>\n",
       "      <th>CozunurlukYükseklik</th>\n",
       "      <th>CozunurlukGenislik</th>\n",
       "      <th>RAM</th>\n",
       "      <th>BataryaOmru</th>\n",
       "    </tr>\n",
       "  </thead>\n",
       "  <tbody>\n",
       "    <tr>\n",
       "      <th>count</th>\n",
       "      <td>2000.000000</td>\n",
       "      <td>2000.000000</td>\n",
       "      <td>1995.000000</td>\n",
       "      <td>2000.000000</td>\n",
       "      <td>2000.000000</td>\n",
       "      <td>2000.000000</td>\n",
       "      <td>2000.000000</td>\n",
       "      <td>2000.000000</td>\n",
       "      <td>2000.000000</td>\n",
       "      <td>2000.000000</td>\n",
       "      <td>1988.000000</td>\n",
       "      <td>2000.000000</td>\n",
       "    </tr>\n",
       "    <tr>\n",
       "      <th>mean</th>\n",
       "      <td>1238.518500</td>\n",
       "      <td>1.522250</td>\n",
       "      <td>4.312281</td>\n",
       "      <td>32.046500</td>\n",
       "      <td>0.501750</td>\n",
       "      <td>140.249000</td>\n",
       "      <td>4.520500</td>\n",
       "      <td>9.916500</td>\n",
       "      <td>645.108000</td>\n",
       "      <td>1251.515500</td>\n",
       "      <td>2116.243964</td>\n",
       "      <td>11.011000</td>\n",
       "    </tr>\n",
       "    <tr>\n",
       "      <th>std</th>\n",
       "      <td>439.418206</td>\n",
       "      <td>0.816004</td>\n",
       "      <td>4.342095</td>\n",
       "      <td>18.145715</td>\n",
       "      <td>0.288416</td>\n",
       "      <td>35.399655</td>\n",
       "      <td>2.287837</td>\n",
       "      <td>6.064315</td>\n",
       "      <td>443.780811</td>\n",
       "      <td>432.199447</td>\n",
       "      <td>1082.513059</td>\n",
       "      <td>5.463955</td>\n",
       "    </tr>\n",
       "    <tr>\n",
       "      <th>min</th>\n",
       "      <td>501.000000</td>\n",
       "      <td>0.500000</td>\n",
       "      <td>0.000000</td>\n",
       "      <td>2.000000</td>\n",
       "      <td>0.100000</td>\n",
       "      <td>80.000000</td>\n",
       "      <td>1.000000</td>\n",
       "      <td>0.000000</td>\n",
       "      <td>0.000000</td>\n",
       "      <td>500.000000</td>\n",
       "      <td>256.000000</td>\n",
       "      <td>2.000000</td>\n",
       "    </tr>\n",
       "    <tr>\n",
       "      <th>25%</th>\n",
       "      <td>851.750000</td>\n",
       "      <td>0.700000</td>\n",
       "      <td>1.000000</td>\n",
       "      <td>16.000000</td>\n",
       "      <td>0.200000</td>\n",
       "      <td>109.000000</td>\n",
       "      <td>3.000000</td>\n",
       "      <td>5.000000</td>\n",
       "      <td>282.750000</td>\n",
       "      <td>874.750000</td>\n",
       "      <td>1204.750000</td>\n",
       "      <td>6.000000</td>\n",
       "    </tr>\n",
       "    <tr>\n",
       "      <th>50%</th>\n",
       "      <td>1226.000000</td>\n",
       "      <td>1.500000</td>\n",
       "      <td>3.000000</td>\n",
       "      <td>32.000000</td>\n",
       "      <td>0.500000</td>\n",
       "      <td>141.000000</td>\n",
       "      <td>4.000000</td>\n",
       "      <td>10.000000</td>\n",
       "      <td>564.000000</td>\n",
       "      <td>1247.000000</td>\n",
       "      <td>2129.500000</td>\n",
       "      <td>11.000000</td>\n",
       "    </tr>\n",
       "    <tr>\n",
       "      <th>75%</th>\n",
       "      <td>1615.250000</td>\n",
       "      <td>2.200000</td>\n",
       "      <td>7.000000</td>\n",
       "      <td>48.000000</td>\n",
       "      <td>0.800000</td>\n",
       "      <td>170.000000</td>\n",
       "      <td>7.000000</td>\n",
       "      <td>15.000000</td>\n",
       "      <td>947.250000</td>\n",
       "      <td>1633.000000</td>\n",
       "      <td>3049.500000</td>\n",
       "      <td>16.000000</td>\n",
       "    </tr>\n",
       "    <tr>\n",
       "      <th>max</th>\n",
       "      <td>1998.000000</td>\n",
       "      <td>3.000000</td>\n",
       "      <td>19.000000</td>\n",
       "      <td>64.000000</td>\n",
       "      <td>1.000000</td>\n",
       "      <td>200.000000</td>\n",
       "      <td>8.000000</td>\n",
       "      <td>20.000000</td>\n",
       "      <td>1960.000000</td>\n",
       "      <td>1998.000000</td>\n",
       "      <td>3998.000000</td>\n",
       "      <td>20.000000</td>\n",
       "    </tr>\n",
       "  </tbody>\n",
       "</table>\n",
       "</div>"
      ],
      "text/plain": [
       "       BataryaGucu  MikroislemciHizi   OnKameraMP  DahiliBellek     Kalinlik  \\\n",
       "count  2000.000000       2000.000000  1995.000000   2000.000000  2000.000000   \n",
       "mean   1238.518500          1.522250     4.312281     32.046500     0.501750   \n",
       "std     439.418206          0.816004     4.342095     18.145715     0.288416   \n",
       "min     501.000000          0.500000     0.000000      2.000000     0.100000   \n",
       "25%     851.750000          0.700000     1.000000     16.000000     0.200000   \n",
       "50%    1226.000000          1.500000     3.000000     32.000000     0.500000   \n",
       "75%    1615.250000          2.200000     7.000000     48.000000     0.800000   \n",
       "max    1998.000000          3.000000    19.000000     64.000000     1.000000   \n",
       "\n",
       "           Agirlik  CekirdekSayisi  ArkaKameraMP  CozunurlukYükseklik  \\\n",
       "count  2000.000000     2000.000000   2000.000000          2000.000000   \n",
       "mean    140.249000        4.520500      9.916500           645.108000   \n",
       "std      35.399655        2.287837      6.064315           443.780811   \n",
       "min      80.000000        1.000000      0.000000             0.000000   \n",
       "25%     109.000000        3.000000      5.000000           282.750000   \n",
       "50%     141.000000        4.000000     10.000000           564.000000   \n",
       "75%     170.000000        7.000000     15.000000           947.250000   \n",
       "max     200.000000        8.000000     20.000000          1960.000000   \n",
       "\n",
       "       CozunurlukGenislik          RAM  BataryaOmru  \n",
       "count         2000.000000  1988.000000  2000.000000  \n",
       "mean          1251.515500  2116.243964    11.011000  \n",
       "std            432.199447  1082.513059     5.463955  \n",
       "min            500.000000   256.000000     2.000000  \n",
       "25%            874.750000  1204.750000     6.000000  \n",
       "50%           1247.000000  2129.500000    11.000000  \n",
       "75%           1633.000000  3049.500000    16.000000  \n",
       "max           1998.000000  3998.000000    20.000000  "
      ]
     },
     "execution_count": 10,
     "metadata": {},
     "output_type": "execute_result"
    }
   ],
   "source": [
    "df.describe()"
   ]
  },
  {
   "cell_type": "markdown",
   "metadata": {},
   "source": [
    "* En yüksek Ortalama: RAM\n",
    "* En düşük Ortalama: Kalınlık\n",
    "* En yüksek Standart Sapma: RAM (min max değerlerindende anlaşılır)\n",
    "* En düşük Standart Sapma: Kalınlık (değerlerin düzenli dağıldığını kanıtlar)"
   ]
  },
  {
   "cell_type": "markdown",
   "metadata": {},
   "source": [
    "> **\"WiFi\", \"BataryaOmru\"** ve **\"Renk\"** değişkenlerinin dağılımını gözlemleyelim."
   ]
  },
  {
   "cell_type": "code",
   "execution_count": 11,
   "metadata": {
    "collapsed": true
   },
   "outputs": [
    {
     "data": {
      "text/plain": [
       "Var    1014\n",
       "Yok     986\n",
       "Name: WiFi, dtype: int64"
      ]
     },
     "execution_count": 11,
     "metadata": {},
     "output_type": "execute_result"
    }
   ],
   "source": [
    "df.WiFi.value_counts() # kısmen dengeli dağıldığını söyleyebiliriz."
   ]
  },
  {
   "cell_type": "code",
   "execution_count": 12,
   "metadata": {
    "collapsed": true
   },
   "outputs": [
    {
     "data": {
      "text/plain": [
       "7     124\n",
       "4     123\n",
       "16    116\n",
       "15    115\n",
       "19    113\n",
       "6     111\n",
       "10    105\n",
       "8     104\n",
       "11    103\n",
       "20    102\n",
       "14    101\n",
       "9     100\n",
       "13    100\n",
       "18    100\n",
       "12     99\n",
       "2      99\n",
       "17     98\n",
       "3      94\n",
       "5      93\n",
       "Name: BataryaOmru, dtype: int64"
      ]
     },
     "execution_count": 12,
     "metadata": {},
     "output_type": "execute_result"
    }
   ],
   "source": [
    "df.BataryaOmru.value_counts() # kısmen dengeli dağıldığını söyleyebiliriz."
   ]
  },
  {
   "cell_type": "code",
   "execution_count": 13,
   "metadata": {
    "collapsed": true
   },
   "outputs": [
    {
     "data": {
      "text/plain": [
       "Beyaz         194\n",
       "Siyah         183\n",
       "Mor           175\n",
       "Turuncu       175\n",
       "Pembe         168\n",
       "Kırmızı       168\n",
       "Turkuaz       167\n",
       "Kahverengi    157\n",
       "Sarı          156\n",
       "Yeşil         154\n",
       "Gri           153\n",
       "Mavi          150\n",
       "Name: Renk, dtype: int64"
      ]
     },
     "execution_count": 13,
     "metadata": {},
     "output_type": "execute_result"
    }
   ],
   "source": [
    "df.Renk.value_counts() # kısmen dengeli dağıldığını söyleyebiliriz."
   ]
  },
  {
   "cell_type": "markdown",
   "metadata": {},
   "source": [
    "> **\"RAM\"** ve **\"Renk\"** değişkenlerinin benzersizliğini gözlemleyelim."
   ]
  },
  {
   "cell_type": "code",
   "execution_count": 14,
   "metadata": {
    "collapsed": true
   },
   "outputs": [
    {
     "data": {
      "text/plain": [
       "array([2328., 3863., 1734., ..., 3557., 3653., 2273.])"
      ]
     },
     "execution_count": 14,
     "metadata": {},
     "output_type": "execute_result"
    }
   ],
   "source": [
    "df.RAM.unique()"
   ]
  },
  {
   "cell_type": "code",
   "execution_count": 15,
   "metadata": {
    "collapsed": true
   },
   "outputs": [
    {
     "data": {
      "text/plain": [
       "1554"
      ]
     },
     "execution_count": 15,
     "metadata": {},
     "output_type": "execute_result"
    }
   ],
   "source": [
    "df.RAM.nunique() # 1554 tane benzersiz değer var."
   ]
  },
  {
   "cell_type": "code",
   "execution_count": 16,
   "metadata": {
    "collapsed": true
   },
   "outputs": [
    {
     "data": {
      "text/plain": [
       "array(['Beyaz', 'Pembe', 'Mor', 'Turuncu', 'Gri', 'Sarı', 'Mavi',\n",
       "       'Turkuaz', 'Kahverengi', 'Yeşil', 'Kırmızı', 'Siyah'], dtype=object)"
      ]
     },
     "execution_count": 16,
     "metadata": {},
     "output_type": "execute_result"
    }
   ],
   "source": [
    "df.Renk.unique()"
   ]
  },
  {
   "cell_type": "code",
   "execution_count": 17,
   "metadata": {
    "collapsed": true
   },
   "outputs": [
    {
     "data": {
      "text/plain": [
       "12"
      ]
     },
     "execution_count": 17,
     "metadata": {},
     "output_type": "execute_result"
    }
   ],
   "source": [
    "df.Renk.nunique() # 12 tane benzersiz renk var."
   ]
  },
  {
   "cell_type": "markdown",
   "metadata": {},
   "source": [
    "## GÖRSELLEŞTİRME"
   ]
  },
  {
   "cell_type": "code",
   "execution_count": 18,
   "metadata": {},
   "outputs": [
    {
     "data": {
      "image/png": "[encoded data removed]",
      "text/plain": [
       "<Figure size 432x288 with 1 Axes>"
      ]
     },
     "metadata": {
      "needs_background": "light"
     },
     "output_type": "display_data"
    }
   ],
   "source": [
    "sns.countplot(df.Dokunmatik);"
   ]
  },
  {
   "cell_type": "code",
   "execution_count": 19,
   "metadata": {},
   "outputs": [
    {
     "data": {
      "image/png": "[encoded data removed]",
      "text/plain": [
       "<Figure size 432x288 with 1 Axes>"
      ]
     },
     "metadata": {
      "needs_background": "light"
     },
     "output_type": "display_data"
    }
   ],
   "source": [
    "sns.boxplot(df.Agirlik, color= \"y\");"
   ]
  },
  {
   "cell_type": "code",
   "execution_count": 20,
   "metadata": {},
   "outputs": [
    {
     "data": {
      "image/png": "[encoded data removed]",
      "text/plain": [
       "<Figure size 432x288 with 1 Axes>"
      ]
     },
     "metadata": {
      "needs_background": "light"
     },
     "output_type": "display_data"
    }
   ],
   "source": [
    "sns.violinplot(y=\"RAM\", color=\"orange\", data= df);"
   ]
  },
  {
   "cell_type": "markdown",
   "metadata": {},
   "source": [
    "RAM değişkeninin değeri yoğun olarak 2000 değerinde dağılmış. Yani normal bir dağılım olduğunu söyleyebiliriz."
   ]
  },
  {
   "cell_type": "code",
   "execution_count": 21,
   "metadata": {},
   "outputs": [
    {
     "data": {
      "image/png": "[encoded data removed]",
      "text/plain": [
       "<Figure size 432x288 with 1 Axes>"
      ]
     },
     "metadata": {
      "needs_background": "light"
     },
     "output_type": "display_data"
    }
   ],
   "source": [
    "sns.countplot(x=\"FiyatAraligi\", data=df); # dengeli dağılım"
   ]
  },
  {
   "cell_type": "code",
   "execution_count": 22,
   "metadata": {},
   "outputs": [
    {
     "data": {
      "image/png": "[encoded data removed]",
      "text/plain": [
       "<Figure size 432x288 with 1 Axes>"
      ]
     },
     "metadata": {
      "needs_background": "light"
     },
     "output_type": "display_data"
    }
   ],
   "source": [
    "sns.countplot(x=\"BataryaOmru\", data=df); # çok değişken değerler yok bu nedenle dengeli dağılım"
   ]
  },
  {
   "cell_type": "code",
   "execution_count": 23,
   "metadata": {},
   "outputs": [
    {
     "data": {
      "image/png": "[encoded data removed]",
      "text/plain": [
       "<Figure size 432x288 with 1 Axes>"
      ]
     },
     "metadata": {
      "needs_background": "light"
     },
     "output_type": "display_data"
    }
   ],
   "source": [
    "sns.countplot(x=\"Agirlik\", data=df); # düzensiz ve dengeli olmayan bir dağılım"
   ]
  },
  {
   "cell_type": "code",
   "execution_count": 24,
   "metadata": {},
   "outputs": [
    {
     "data": {
      "image/png": "[encoded data removed]",
      "text/plain": [
       "<Figure size 432x288 with 1 Axes>"
      ]
     },
     "metadata": {
      "needs_background": "light"
     },
     "output_type": "display_data"
    }
   ],
   "source": [
    "sns.distplot(df.BataryaGucu, bins=20, color=\"c\");"
   ]
  },
  {
   "cell_type": "code",
   "execution_count": 25,
   "metadata": {},
   "outputs": [
    {
     "data": {
      "image/png": "[encoded data removed]",
      "text/plain": [
       "<Figure size 360x360 with 1 Axes>"
      ]
     },
     "metadata": {
      "needs_background": "light"
     },
     "output_type": "display_data"
    }
   ],
   "source": [
    "sns.relplot(x=\"FiyatAraligi\", y=\"BataryaGucu\", kind=\"line\", ci=\"sd\", color=\"red\", data=df);"
   ]
  },
  {
   "cell_type": "markdown",
   "metadata": {},
   "source": [
    "Grafiğe göre Fiyat Aralığı ve Batarya Gücü değişkenleri arasında doğru orantı olduğunu söyleyebiliriz."
   ]
  },
  {
   "cell_type": "code",
   "execution_count": 26,
   "metadata": {},
   "outputs": [
    {
     "data": {
      "image/png": "[encoded data removed]",
      "text/plain": [
       "<Figure size 432x288 with 1 Axes>"
      ]
     },
     "metadata": {
      "needs_background": "light"
     },
     "output_type": "display_data"
    }
   ],
   "source": [
    "sns.barplot(x=\"FiyatAraligi\", y=\"RAM\", data=df );"
   ]
  },
  {
   "cell_type": "markdown",
   "metadata": {},
   "source": [
    "Grafiğe göre RAM miktarı arttıkça fiyat araşığı da artmıştır bu nedenle ikisi arasında doğru orantı olduğunu söyleyebiliriz."
   ]
  },
  {
   "cell_type": "code",
   "execution_count": 27,
   "metadata": {},
   "outputs": [
    {
     "data": {
      "text/plain": [
       "<AxesSubplot:xlabel='ArkaKameraMP', ylabel='DahiliBellek'>"
      ]
     },
     "execution_count": 27,
     "metadata": {},
     "output_type": "execute_result"
    },
    {
     "data": {
      "image/png": "[encoded data removed]",
      "text/plain": [
       "<Figure size 432x288 with 1 Axes>"
      ]
     },
     "metadata": {
      "needs_background": "light"
     },
     "output_type": "display_data"
    }
   ],
   "source": [
    "sns.scatterplot(x=\"ArkaKameraMP\", y=\"DahiliBellek\", data=df, color=\"m\")"
   ]
  },
  {
   "cell_type": "markdown",
   "metadata": {},
   "source": [
    "\"ArkaKameraMP\" ve \"DahiliBellek\" arasnda negatif bir ilişki vardır."
   ]
  },
  {
   "cell_type": "code",
   "execution_count": 28,
   "metadata": {},
   "outputs": [
    {
     "data": {
      "image/png": "[encoded data removed]",
      "text/plain": [
       "<Figure size 432x288 with 1 Axes>"
      ]
     },
     "metadata": {
      "needs_background": "light"
     },
     "output_type": "display_data"
    }
   ],
   "source": [
    "sns.scatterplot(x=\"RAM\", y=\"BataryaGucu\", hue=\"FiyatAraligi\", data=df);"
   ]
  },
  {
   "cell_type": "markdown",
   "metadata": {},
   "source": [
    "FiyatAraligi ve RAM arasında doğru orantı olduğunu daha önceden gözlmelemiştik. Aynı şekilde BataryaGucu değişkenininde FiyatAraligi değişkenini doğrudan etkilediğini söyleyebiliriz."
   ]
  },
  {
   "cell_type": "code",
   "execution_count": 29,
   "metadata": {},
   "outputs": [
    {
     "data": {
      "image/png": "[encoded data removed]",
      "text/plain": [
       "<Figure size 452.5x360 with 1 Axes>"
      ]
     },
     "metadata": {
      "needs_background": "light"
     },
     "output_type": "display_data"
    }
   ],
   "source": [
    "sns.catplot(x=\"FiyatAraligi\", y=\"RAM\", hue=\"Renk\", data=df, kind=\"bar\");"
   ]
  },
  {
   "cell_type": "markdown",
   "metadata": {},
   "source": [
    "RAM ve BataryaGucu arasında doğru orantı olduğunu ve yine aynı şekilde RAM ve FiyatAraligi arasında da doğru orantı olduğunu yukarıda gözlemledik. Grafiğe göre Renk ve FiyatAraligi arasında ilişkiden söz etmek mümkün değil."
   ]
  },
  {
   "cell_type": "markdown",
   "metadata": {},
   "source": [
    "## VERİ ÖN İŞLEME"
   ]
  },
  {
   "cell_type": "code",
   "execution_count": 30,
   "metadata": {
    "collapsed": true
   },
   "outputs": [
    {
     "data": {
      "text/plain": [
       "BataryaGucu             0\n",
       "Bluetooth               0\n",
       "MikroislemciHizi        0\n",
       "CiftHat                 0\n",
       "OnKameraMP              5\n",
       "4G                      0\n",
       "DahiliBellek            0\n",
       "Kalinlik                0\n",
       "Agirlik                 0\n",
       "CekirdekSayisi          0\n",
       "ArkaKameraMP            0\n",
       "CozunurlukYükseklik     0\n",
       "CozunurlukGenislik      0\n",
       "RAM                    12\n",
       "BataryaOmru             0\n",
       "3G                      0\n",
       "Dokunmatik              0\n",
       "WiFi                    0\n",
       "FiyatAraligi            0\n",
       "Renk                    0\n",
       "dtype: int64"
      ]
     },
     "execution_count": 30,
     "metadata": {},
     "output_type": "execute_result"
    }
   ],
   "source": [
    "df.isnull().sum()"
   ]
  },
  {
   "cell_type": "markdown",
   "metadata": {},
   "source": [
    "OnKameraMP ve RAM değişkenlerinde boş değerler vardır."
   ]
  },
  {
   "cell_type": "code",
   "execution_count": 31,
   "metadata": {
    "collapsed": true
   },
   "outputs": [
    {
     "data": {
      "text/plain": [
       "17"
      ]
     },
     "execution_count": 31,
     "metadata": {},
     "output_type": "execute_result"
    }
   ],
   "source": [
    "df.isnull().sum().sum() "
   ]
  },
  {
   "cell_type": "markdown",
   "metadata": {},
   "source": [
    "Veri setinde toplamda 17 tane boş veri bulunmaktadır."
   ]
  },
  {
   "cell_type": "markdown",
   "metadata": {},
   "source": [
    "> **Eksik değere sahip olan RAM değişkeninin eksik değerlerini inceleyelim.**"
   ]
  },
  {
   "cell_type": "code",
   "execution_count": 32,
   "metadata": {
    "scrolled": true
   },
   "outputs": [
    {
     "data": {
      "text/html": [
       "<div>\n",
       "<style scoped>\n",
       "    .dataframe tbody tr th:only-of-type {\n",
       "        vertical-align: middle;\n",
       "    }\n",
       "\n",
       "    .dataframe tbody tr th {\n",
       "        vertical-align: top;\n",
       "    }\n",
       "\n",
       "    .dataframe thead th {\n",
       "        text-align: right;\n",
       "    }\n",
       "</style>\n",
       "<table border=\"1\" class=\"dataframe\">\n",
       "  <thead>\n",
       "    <tr style=\"text-align: right;\">\n",
       "      <th></th>\n",
       "      <th>BataryaGucu</th>\n",
       "      <th>Bluetooth</th>\n",
       "      <th>MikroislemciHizi</th>\n",
       "      <th>CiftHat</th>\n",
       "      <th>OnKameraMP</th>\n",
       "      <th>4G</th>\n",
       "      <th>DahiliBellek</th>\n",
       "      <th>Kalinlik</th>\n",
       "      <th>Agirlik</th>\n",
       "      <th>CekirdekSayisi</th>\n",
       "      <th>ArkaKameraMP</th>\n",
       "      <th>CozunurlukYükseklik</th>\n",
       "      <th>CozunurlukGenislik</th>\n",
       "      <th>RAM</th>\n",
       "      <th>BataryaOmru</th>\n",
       "      <th>3G</th>\n",
       "      <th>Dokunmatik</th>\n",
       "      <th>WiFi</th>\n",
       "      <th>FiyatAraligi</th>\n",
       "      <th>Renk</th>\n",
       "    </tr>\n",
       "  </thead>\n",
       "  <tbody>\n",
       "    <tr>\n",
       "      <th>87</th>\n",
       "      <td>1062</td>\n",
       "      <td>Var</td>\n",
       "      <td>2.5</td>\n",
       "      <td>Var</td>\n",
       "      <td>6.0</td>\n",
       "      <td>Yok</td>\n",
       "      <td>10</td>\n",
       "      <td>0.9</td>\n",
       "      <td>160</td>\n",
       "      <td>1</td>\n",
       "      <td>13</td>\n",
       "      <td>1596</td>\n",
       "      <td>1807</td>\n",
       "      <td>NaN</td>\n",
       "      <td>16</td>\n",
       "      <td>Yok</td>\n",
       "      <td>Yok</td>\n",
       "      <td>Var</td>\n",
       "      <td>Pahalı</td>\n",
       "      <td>Gri</td>\n",
       "    </tr>\n",
       "    <tr>\n",
       "      <th>169</th>\n",
       "      <td>1944</td>\n",
       "      <td>Var</td>\n",
       "      <td>1.8</td>\n",
       "      <td>Var</td>\n",
       "      <td>0.0</td>\n",
       "      <td>Var</td>\n",
       "      <td>31</td>\n",
       "      <td>0.8</td>\n",
       "      <td>87</td>\n",
       "      <td>4</td>\n",
       "      <td>10</td>\n",
       "      <td>1111</td>\n",
       "      <td>1362</td>\n",
       "      <td>NaN</td>\n",
       "      <td>8</td>\n",
       "      <td>Var</td>\n",
       "      <td>Yok</td>\n",
       "      <td>Yok</td>\n",
       "      <td>Pahalı</td>\n",
       "      <td>Beyaz</td>\n",
       "    </tr>\n",
       "    <tr>\n",
       "      <th>310</th>\n",
       "      <td>1479</td>\n",
       "      <td>Var</td>\n",
       "      <td>1.8</td>\n",
       "      <td>Var</td>\n",
       "      <td>0.0</td>\n",
       "      <td>Var</td>\n",
       "      <td>24</td>\n",
       "      <td>0.1</td>\n",
       "      <td>146</td>\n",
       "      <td>6</td>\n",
       "      <td>0</td>\n",
       "      <td>327</td>\n",
       "      <td>645</td>\n",
       "      <td>NaN</td>\n",
       "      <td>5</td>\n",
       "      <td>Var</td>\n",
       "      <td>Yok</td>\n",
       "      <td>Yok</td>\n",
       "      <td>Pahalı</td>\n",
       "      <td>Turuncu</td>\n",
       "    </tr>\n",
       "    <tr>\n",
       "      <th>329</th>\n",
       "      <td>1035</td>\n",
       "      <td>Yok</td>\n",
       "      <td>0.6</td>\n",
       "      <td>Var</td>\n",
       "      <td>2.0</td>\n",
       "      <td>Var</td>\n",
       "      <td>44</td>\n",
       "      <td>0.5</td>\n",
       "      <td>99</td>\n",
       "      <td>3</td>\n",
       "      <td>3</td>\n",
       "      <td>236</td>\n",
       "      <td>1960</td>\n",
       "      <td>NaN</td>\n",
       "      <td>12</td>\n",
       "      <td>Var</td>\n",
       "      <td>Var</td>\n",
       "      <td>Yok</td>\n",
       "      <td>Pahalı</td>\n",
       "      <td>Beyaz</td>\n",
       "    </tr>\n",
       "    <tr>\n",
       "      <th>658</th>\n",
       "      <td>732</td>\n",
       "      <td>Var</td>\n",
       "      <td>1.3</td>\n",
       "      <td>Yok</td>\n",
       "      <td>5.0</td>\n",
       "      <td>Var</td>\n",
       "      <td>32</td>\n",
       "      <td>0.4</td>\n",
       "      <td>163</td>\n",
       "      <td>8</td>\n",
       "      <td>7</td>\n",
       "      <td>1661</td>\n",
       "      <td>1836</td>\n",
       "      <td>NaN</td>\n",
       "      <td>5</td>\n",
       "      <td>Var</td>\n",
       "      <td>Yok</td>\n",
       "      <td>Var</td>\n",
       "      <td>Pahalı</td>\n",
       "      <td>Siyah</td>\n",
       "    </tr>\n",
       "    <tr>\n",
       "      <th>777</th>\n",
       "      <td>753</td>\n",
       "      <td>Var</td>\n",
       "      <td>0.5</td>\n",
       "      <td>Yok</td>\n",
       "      <td>11.0</td>\n",
       "      <td>Var</td>\n",
       "      <td>48</td>\n",
       "      <td>0.1</td>\n",
       "      <td>121</td>\n",
       "      <td>8</td>\n",
       "      <td>20</td>\n",
       "      <td>606</td>\n",
       "      <td>1316</td>\n",
       "      <td>NaN</td>\n",
       "      <td>16</td>\n",
       "      <td>Var</td>\n",
       "      <td>Yok</td>\n",
       "      <td>Yok</td>\n",
       "      <td>Pahalı</td>\n",
       "      <td>Turkuaz</td>\n",
       "    </tr>\n",
       "    <tr>\n",
       "      <th>871</th>\n",
       "      <td>1035</td>\n",
       "      <td>Var</td>\n",
       "      <td>2.7</td>\n",
       "      <td>Yok</td>\n",
       "      <td>1.0</td>\n",
       "      <td>Yok</td>\n",
       "      <td>40</td>\n",
       "      <td>0.2</td>\n",
       "      <td>157</td>\n",
       "      <td>5</td>\n",
       "      <td>15</td>\n",
       "      <td>757</td>\n",
       "      <td>1912</td>\n",
       "      <td>NaN</td>\n",
       "      <td>5</td>\n",
       "      <td>Yok</td>\n",
       "      <td>Var</td>\n",
       "      <td>Var</td>\n",
       "      <td>Pahalı</td>\n",
       "      <td>Turuncu</td>\n",
       "    </tr>\n",
       "    <tr>\n",
       "      <th>961</th>\n",
       "      <td>1949</td>\n",
       "      <td>Yok</td>\n",
       "      <td>1.3</td>\n",
       "      <td>Var</td>\n",
       "      <td>0.0</td>\n",
       "      <td>Yok</td>\n",
       "      <td>23</td>\n",
       "      <td>0.1</td>\n",
       "      <td>101</td>\n",
       "      <td>5</td>\n",
       "      <td>1</td>\n",
       "      <td>839</td>\n",
       "      <td>1136</td>\n",
       "      <td>NaN</td>\n",
       "      <td>20</td>\n",
       "      <td>Var</td>\n",
       "      <td>Yok</td>\n",
       "      <td>Yok</td>\n",
       "      <td>Pahalı</td>\n",
       "      <td>Sarı</td>\n",
       "    </tr>\n",
       "    <tr>\n",
       "      <th>965</th>\n",
       "      <td>1786</td>\n",
       "      <td>Yok</td>\n",
       "      <td>1.2</td>\n",
       "      <td>Yok</td>\n",
       "      <td>11.0</td>\n",
       "      <td>Yok</td>\n",
       "      <td>61</td>\n",
       "      <td>0.1</td>\n",
       "      <td>123</td>\n",
       "      <td>3</td>\n",
       "      <td>14</td>\n",
       "      <td>74</td>\n",
       "      <td>865</td>\n",
       "      <td>NaN</td>\n",
       "      <td>17</td>\n",
       "      <td>Yok</td>\n",
       "      <td>Var</td>\n",
       "      <td>Yok</td>\n",
       "      <td>Pahalı</td>\n",
       "      <td>Kahverengi</td>\n",
       "    </tr>\n",
       "    <tr>\n",
       "      <th>1180</th>\n",
       "      <td>1369</td>\n",
       "      <td>Var</td>\n",
       "      <td>1.8</td>\n",
       "      <td>Var</td>\n",
       "      <td>6.0</td>\n",
       "      <td>Yok</td>\n",
       "      <td>34</td>\n",
       "      <td>0.5</td>\n",
       "      <td>162</td>\n",
       "      <td>1</td>\n",
       "      <td>7</td>\n",
       "      <td>553</td>\n",
       "      <td>727</td>\n",
       "      <td>NaN</td>\n",
       "      <td>18</td>\n",
       "      <td>Yok</td>\n",
       "      <td>Var</td>\n",
       "      <td>Var</td>\n",
       "      <td>Pahalı</td>\n",
       "      <td>Turuncu</td>\n",
       "    </tr>\n",
       "    <tr>\n",
       "      <th>1779</th>\n",
       "      <td>1701</td>\n",
       "      <td>Var</td>\n",
       "      <td>0.5</td>\n",
       "      <td>Yok</td>\n",
       "      <td>13.0</td>\n",
       "      <td>Var</td>\n",
       "      <td>46</td>\n",
       "      <td>0.9</td>\n",
       "      <td>115</td>\n",
       "      <td>2</td>\n",
       "      <td>15</td>\n",
       "      <td>364</td>\n",
       "      <td>828</td>\n",
       "      <td>NaN</td>\n",
       "      <td>10</td>\n",
       "      <td>Var</td>\n",
       "      <td>Var</td>\n",
       "      <td>Yok</td>\n",
       "      <td>Pahalı</td>\n",
       "      <td>Yeşil</td>\n",
       "    </tr>\n",
       "    <tr>\n",
       "      <th>1804</th>\n",
       "      <td>1370</td>\n",
       "      <td>Yok</td>\n",
       "      <td>1.4</td>\n",
       "      <td>Yok</td>\n",
       "      <td>5.0</td>\n",
       "      <td>Var</td>\n",
       "      <td>6</td>\n",
       "      <td>0.2</td>\n",
       "      <td>158</td>\n",
       "      <td>6</td>\n",
       "      <td>8</td>\n",
       "      <td>1392</td>\n",
       "      <td>1783</td>\n",
       "      <td>NaN</td>\n",
       "      <td>11</td>\n",
       "      <td>Var</td>\n",
       "      <td>Var</td>\n",
       "      <td>Yok</td>\n",
       "      <td>Pahalı</td>\n",
       "      <td>Turkuaz</td>\n",
       "    </tr>\n",
       "  </tbody>\n",
       "</table>\n",
       "</div>"
      ],
      "text/plain": [
       "      BataryaGucu Bluetooth  MikroislemciHizi CiftHat  OnKameraMP   4G  \\\n",
       "87           1062       Var               2.5     Var         6.0  Yok   \n",
       "169          1944       Var               1.8     Var         0.0  Var   \n",
       "310          1479       Var               1.8     Var         0.0  Var   \n",
       "329          1035       Yok               0.6     Var         2.0  Var   \n",
       "658           732       Var               1.3     Yok         5.0  Var   \n",
       "777           753       Var               0.5     Yok        11.0  Var   \n",
       "871          1035       Var               2.7     Yok         1.0  Yok   \n",
       "961          1949       Yok               1.3     Var         0.0  Yok   \n",
       "965          1786       Yok               1.2     Yok        11.0  Yok   \n",
       "1180         1369       Var               1.8     Var         6.0  Yok   \n",
       "1779         1701       Var               0.5     Yok        13.0  Var   \n",
       "1804         1370       Yok               1.4     Yok         5.0  Var   \n",
       "\n",
       "      DahiliBellek  Kalinlik  Agirlik  CekirdekSayisi  ArkaKameraMP  \\\n",
       "87              10       0.9      160               1            13   \n",
       "169             31       0.8       87               4            10   \n",
       "310             24       0.1      146               6             0   \n",
       "329             44       0.5       99               3             3   \n",
       "658             32       0.4      163               8             7   \n",
       "777             48       0.1      121               8            20   \n",
       "871             40       0.2      157               5            15   \n",
       "961             23       0.1      101               5             1   \n",
       "965             61       0.1      123               3            14   \n",
       "1180            34       0.5      162               1             7   \n",
       "1779            46       0.9      115               2            15   \n",
       "1804             6       0.2      158               6             8   \n",
       "\n",
       "      CozunurlukYükseklik  CozunurlukGenislik  RAM  BataryaOmru   3G  \\\n",
       "87                   1596                1807  NaN           16  Yok   \n",
       "169                  1111                1362  NaN            8  Var   \n",
       "310                   327                 645  NaN            5  Var   \n",
       "329                   236                1960  NaN           12  Var   \n",
       "658                  1661                1836  NaN            5  Var   \n",
       "777                   606                1316  NaN           16  Var   \n",
       "871                   757                1912  NaN            5  Yok   \n",
       "961                   839                1136  NaN           20  Var   \n",
       "965                    74                 865  NaN           17  Yok   \n",
       "1180                  553                 727  NaN           18  Yok   \n",
       "1779                  364                 828  NaN           10  Var   \n",
       "1804                 1392                1783  NaN           11  Var   \n",
       "\n",
       "     Dokunmatik WiFi FiyatAraligi        Renk  \n",
       "87          Yok  Var       Pahalı         Gri  \n",
       "169         Yok  Yok       Pahalı       Beyaz  \n",
       "310         Yok  Yok       Pahalı     Turuncu  \n",
       "329         Var  Yok       Pahalı       Beyaz  \n",
       "658         Yok  Var       Pahalı       Siyah  \n",
       "777         Yok  Yok       Pahalı     Turkuaz  \n",
       "871         Var  Var       Pahalı     Turuncu  \n",
       "961         Yok  Yok       Pahalı        Sarı  \n",
       "965         Var  Yok       Pahalı  Kahverengi  \n",
       "1180        Var  Var       Pahalı     Turuncu  \n",
       "1779        Var  Yok       Pahalı       Yeşil  \n",
       "1804        Var  Yok       Pahalı     Turkuaz  "
      ]
     },
     "execution_count": 32,
     "metadata": {},
     "output_type": "execute_result"
    }
   ],
   "source": [
    "df[df.RAM.isnull()]"
   ]
  },
  {
   "cell_type": "markdown",
   "metadata": {},
   "source": [
    "* FiyatAralığı değişkenine bakacak olursak tüm eksik verilerin **Pahalı** olan verilerden oluştuğunu gözlemleyebiliriz."
   ]
  },
  {
   "cell_type": "markdown",
   "metadata": {},
   "source": [
    "RAM değişkeninin sadece FiyatAraligi değişkeninin pahalı olduğu gözlemlerde eksik değere sahip olduğu için veri setinin ortalama değerlerini değiştirmemek adına **FiyatAraliği değişkeninin pahalı olduğu gözlemlerdeki RAM değişkenlerinin ortalama değerlerini eksik değerlerine atayalım.**"
   ]
  },
  {
   "cell_type": "code",
   "execution_count": 33,
   "metadata": {},
   "outputs": [],
   "source": [
    "ortalama = df[df.FiyatAraligi == \"Pahalı\"].RAM.mean()\n",
    "df.RAM.fillna(ortalama, inplace=True)"
   ]
  },
  {
   "cell_type": "markdown",
   "metadata": {},
   "source": [
    "> **Eksik değere sahip olan OnKameraMP değişkeninin eksik değerlerini inceleyelim.**"
   ]
  },
  {
   "cell_type": "code",
   "execution_count": 34,
   "metadata": {},
   "outputs": [
    {
     "data": {
      "text/html": [
       "<div>\n",
       "<style scoped>\n",
       "    .dataframe tbody tr th:only-of-type {\n",
       "        vertical-align: middle;\n",
       "    }\n",
       "\n",
       "    .dataframe tbody tr th {\n",
       "        vertical-align: top;\n",
       "    }\n",
       "\n",
       "    .dataframe thead th {\n",
       "        text-align: right;\n",
       "    }\n",
       "</style>\n",
       "<table border=\"1\" class=\"dataframe\">\n",
       "  <thead>\n",
       "    <tr style=\"text-align: right;\">\n",
       "      <th></th>\n",
       "      <th>BataryaGucu</th>\n",
       "      <th>Bluetooth</th>\n",
       "      <th>MikroislemciHizi</th>\n",
       "      <th>CiftHat</th>\n",
       "      <th>OnKameraMP</th>\n",
       "      <th>4G</th>\n",
       "      <th>DahiliBellek</th>\n",
       "      <th>Kalinlik</th>\n",
       "      <th>Agirlik</th>\n",
       "      <th>CekirdekSayisi</th>\n",
       "      <th>ArkaKameraMP</th>\n",
       "      <th>CozunurlukYükseklik</th>\n",
       "      <th>CozunurlukGenislik</th>\n",
       "      <th>RAM</th>\n",
       "      <th>BataryaOmru</th>\n",
       "      <th>3G</th>\n",
       "      <th>Dokunmatik</th>\n",
       "      <th>WiFi</th>\n",
       "      <th>FiyatAraligi</th>\n",
       "      <th>Renk</th>\n",
       "    </tr>\n",
       "  </thead>\n",
       "  <tbody>\n",
       "    <tr>\n",
       "      <th>351</th>\n",
       "      <td>726</td>\n",
       "      <td>Yok</td>\n",
       "      <td>2.2</td>\n",
       "      <td>Yok</td>\n",
       "      <td>NaN</td>\n",
       "      <td>Var</td>\n",
       "      <td>40</td>\n",
       "      <td>0.8</td>\n",
       "      <td>94</td>\n",
       "      <td>4</td>\n",
       "      <td>20</td>\n",
       "      <td>323</td>\n",
       "      <td>978</td>\n",
       "      <td>1342.0</td>\n",
       "      <td>4</td>\n",
       "      <td>Var</td>\n",
       "      <td>Var</td>\n",
       "      <td>Var</td>\n",
       "      <td>Çok Ucuz</td>\n",
       "      <td>Beyaz</td>\n",
       "    </tr>\n",
       "    <tr>\n",
       "      <th>726</th>\n",
       "      <td>1296</td>\n",
       "      <td>Yok</td>\n",
       "      <td>0.9</td>\n",
       "      <td>Var</td>\n",
       "      <td>NaN</td>\n",
       "      <td>Var</td>\n",
       "      <td>14</td>\n",
       "      <td>0.5</td>\n",
       "      <td>124</td>\n",
       "      <td>5</td>\n",
       "      <td>3</td>\n",
       "      <td>811</td>\n",
       "      <td>1272</td>\n",
       "      <td>490.0</td>\n",
       "      <td>4</td>\n",
       "      <td>Var</td>\n",
       "      <td>Var</td>\n",
       "      <td>Var</td>\n",
       "      <td>Çok Ucuz</td>\n",
       "      <td>Sarı</td>\n",
       "    </tr>\n",
       "    <tr>\n",
       "      <th>792</th>\n",
       "      <td>504</td>\n",
       "      <td>Yok</td>\n",
       "      <td>2.8</td>\n",
       "      <td>Var</td>\n",
       "      <td>NaN</td>\n",
       "      <td>Yok</td>\n",
       "      <td>40</td>\n",
       "      <td>0.5</td>\n",
       "      <td>178</td>\n",
       "      <td>3</td>\n",
       "      <td>0</td>\n",
       "      <td>626</td>\n",
       "      <td>1195</td>\n",
       "      <td>470.0</td>\n",
       "      <td>16</td>\n",
       "      <td>Var</td>\n",
       "      <td>Yok</td>\n",
       "      <td>Yok</td>\n",
       "      <td>Çok Ucuz</td>\n",
       "      <td>Siyah</td>\n",
       "    </tr>\n",
       "    <tr>\n",
       "      <th>1416</th>\n",
       "      <td>1617</td>\n",
       "      <td>Var</td>\n",
       "      <td>2.4</td>\n",
       "      <td>Yok</td>\n",
       "      <td>NaN</td>\n",
       "      <td>Var</td>\n",
       "      <td>36</td>\n",
       "      <td>0.8</td>\n",
       "      <td>85</td>\n",
       "      <td>1</td>\n",
       "      <td>9</td>\n",
       "      <td>743</td>\n",
       "      <td>1426</td>\n",
       "      <td>296.0</td>\n",
       "      <td>7</td>\n",
       "      <td>Var</td>\n",
       "      <td>Yok</td>\n",
       "      <td>Yok</td>\n",
       "      <td>Çok Ucuz</td>\n",
       "      <td>Sarı</td>\n",
       "    </tr>\n",
       "    <tr>\n",
       "      <th>1641</th>\n",
       "      <td>763</td>\n",
       "      <td>Yok</td>\n",
       "      <td>1.7</td>\n",
       "      <td>Var</td>\n",
       "      <td>NaN</td>\n",
       "      <td>Var</td>\n",
       "      <td>2</td>\n",
       "      <td>0.5</td>\n",
       "      <td>92</td>\n",
       "      <td>8</td>\n",
       "      <td>14</td>\n",
       "      <td>1028</td>\n",
       "      <td>1186</td>\n",
       "      <td>1050.0</td>\n",
       "      <td>8</td>\n",
       "      <td>Var</td>\n",
       "      <td>Var</td>\n",
       "      <td>Yok</td>\n",
       "      <td>Çok Ucuz</td>\n",
       "      <td>Siyah</td>\n",
       "    </tr>\n",
       "  </tbody>\n",
       "</table>\n",
       "</div>"
      ],
      "text/plain": [
       "      BataryaGucu Bluetooth  MikroislemciHizi CiftHat  OnKameraMP   4G  \\\n",
       "351           726       Yok               2.2     Yok         NaN  Var   \n",
       "726          1296       Yok               0.9     Var         NaN  Var   \n",
       "792           504       Yok               2.8     Var         NaN  Yok   \n",
       "1416         1617       Var               2.4     Yok         NaN  Var   \n",
       "1641          763       Yok               1.7     Var         NaN  Var   \n",
       "\n",
       "      DahiliBellek  Kalinlik  Agirlik  CekirdekSayisi  ArkaKameraMP  \\\n",
       "351             40       0.8       94               4            20   \n",
       "726             14       0.5      124               5             3   \n",
       "792             40       0.5      178               3             0   \n",
       "1416            36       0.8       85               1             9   \n",
       "1641             2       0.5       92               8            14   \n",
       "\n",
       "      CozunurlukYükseklik  CozunurlukGenislik     RAM  BataryaOmru   3G  \\\n",
       "351                   323                 978  1342.0            4  Var   \n",
       "726                   811                1272   490.0            4  Var   \n",
       "792                   626                1195   470.0           16  Var   \n",
       "1416                  743                1426   296.0            7  Var   \n",
       "1641                 1028                1186  1050.0            8  Var   \n",
       "\n",
       "     Dokunmatik WiFi FiyatAraligi   Renk  \n",
       "351         Var  Var     Çok Ucuz  Beyaz  \n",
       "726         Var  Var     Çok Ucuz   Sarı  \n",
       "792         Yok  Yok     Çok Ucuz  Siyah  \n",
       "1416        Yok  Yok     Çok Ucuz   Sarı  \n",
       "1641        Var  Yok     Çok Ucuz  Siyah  "
      ]
     },
     "execution_count": 34,
     "metadata": {},
     "output_type": "execute_result"
    }
   ],
   "source": [
    "df[df.OnKameraMP.isnull()]"
   ]
  },
  {
   "cell_type": "markdown",
   "metadata": {},
   "source": [
    "* FiyatAralığı değişkenine bakacak olursak tüm eksik verilerin **Çok Ucuz** olan verilerden oluştuğunu gözlemleyebiliriz."
   ]
  },
  {
   "cell_type": "markdown",
   "metadata": {},
   "source": [
    "OnKameraMP değişkeninin sadece FiyatAraligi değişkeninin \"Çok Ucuz\" olduğu gözlemlerde eksik değere sahip olduğu için veri setinin ortalama değerlerini değiştirmemek adına **FiyatAraliği değişkeninin \"Çok Ucuz\" olduğu gözlemlerdeki OnKameraMP değişkenlerinin ortalama değerlerini eksik değerlerine atayalım.**"
   ]
  },
  {
   "cell_type": "code",
   "execution_count": 35,
   "metadata": {},
   "outputs": [],
   "source": [
    "ort = df[df.FiyatAraligi == \"Çok Ucuz\"].OnKameraMP.mean()\n",
    "df.OnKameraMP.fillna(ort, inplace=True)"
   ]
  },
  {
   "cell_type": "markdown",
   "metadata": {},
   "source": [
    "Bütün eksik değrleri doldurduk. Bu durumu gözlemleyelim."
   ]
  },
  {
   "cell_type": "code",
   "execution_count": 36,
   "metadata": {
    "collapsed": true
   },
   "outputs": [
    {
     "data": {
      "text/plain": [
       "0"
      ]
     },
     "execution_count": 36,
     "metadata": {},
     "output_type": "execute_result"
    }
   ],
   "source": [
    "df.isnull().sum().sum()"
   ]
  },
  {
   "cell_type": "markdown",
   "metadata": {},
   "source": [
    "> Yukarıdaki işlemler sonucu Renk ve Fiyat aralığı arasında bir ilişki bulamadık. Hedef değişkene etki etmediği için Renk değişkenini siliyoruz."
   ]
  },
  {
   "cell_type": "code",
   "execution_count": 37,
   "metadata": {},
   "outputs": [],
   "source": [
    "df.drop(\"Renk\", axis=1, inplace=True)"
   ]
  },
  {
   "cell_type": "markdown",
   "metadata": {},
   "source": [
    "**Kategorik değişkenlerin sıralanabilir / sıralanamaz (ordered/nominal) olma durumlarına göre uygun sayısallaştırma işlemlerini yapalım...**"
   ]
  },
  {
   "cell_type": "code",
   "execution_count": 38,
   "metadata": {},
   "outputs": [],
   "source": [
    "LabelEncoder = LabelEncoder()"
   ]
  },
  {
   "cell_type": "code",
   "execution_count": 39,
   "metadata": {},
   "outputs": [],
   "source": [
    "df[\"WiFi\"] = LabelEncoder.fit_transform(df[\"WiFi\"])\n",
    "df[\"3G\"] = LabelEncoder.fit_transform(df[\"3G\"])\n",
    "df[\"Dokunmatik\"] = LabelEncoder.fit_transform(df[\"Dokunmatik\"])\n",
    "df[\"Bluetooth\"] = LabelEncoder.fit_transform(df[\"Bluetooth\"])\n",
    "df[\"CiftHat\"] = LabelEncoder.fit_transform(df[\"CiftHat\"])\n",
    "df[\"4G\"] = LabelEncoder.fit_transform(df[\"4G\"])"
   ]
  },
  {
   "cell_type": "code",
   "execution_count": 40,
   "metadata": {
    "collapsed": true
   },
   "outputs": [
    {
     "data": {
      "text/html": [
       "<div>\n",
       "<style scoped>\n",
       "    .dataframe tbody tr th:only-of-type {\n",
       "        vertical-align: middle;\n",
       "    }\n",
       "\n",
       "    .dataframe tbody tr th {\n",
       "        vertical-align: top;\n",
       "    }\n",
       "\n",
       "    .dataframe thead th {\n",
       "        text-align: right;\n",
       "    }\n",
       "</style>\n",
       "<table border=\"1\" class=\"dataframe\">\n",
       "  <thead>\n",
       "    <tr style=\"text-align: right;\">\n",
       "      <th></th>\n",
       "      <th>BataryaGucu</th>\n",
       "      <th>Bluetooth</th>\n",
       "      <th>MikroislemciHizi</th>\n",
       "      <th>CiftHat</th>\n",
       "      <th>OnKameraMP</th>\n",
       "      <th>4G</th>\n",
       "      <th>DahiliBellek</th>\n",
       "      <th>Kalinlik</th>\n",
       "      <th>Agirlik</th>\n",
       "      <th>CekirdekSayisi</th>\n",
       "      <th>ArkaKameraMP</th>\n",
       "      <th>CozunurlukYükseklik</th>\n",
       "      <th>CozunurlukGenislik</th>\n",
       "      <th>RAM</th>\n",
       "      <th>BataryaOmru</th>\n",
       "      <th>3G</th>\n",
       "      <th>Dokunmatik</th>\n",
       "      <th>WiFi</th>\n",
       "      <th>FiyatAraligi</th>\n",
       "    </tr>\n",
       "  </thead>\n",
       "  <tbody>\n",
       "    <tr>\n",
       "      <th>0</th>\n",
       "      <td>1325</td>\n",
       "      <td>1</td>\n",
       "      <td>1.9</td>\n",
       "      <td>1</td>\n",
       "      <td>2.0</td>\n",
       "      <td>1</td>\n",
       "      <td>50</td>\n",
       "      <td>0.1</td>\n",
       "      <td>146</td>\n",
       "      <td>1</td>\n",
       "      <td>10</td>\n",
       "      <td>499</td>\n",
       "      <td>695</td>\n",
       "      <td>2328.0</td>\n",
       "      <td>2</td>\n",
       "      <td>0</td>\n",
       "      <td>1</td>\n",
       "      <td>1</td>\n",
       "      <td>Normal</td>\n",
       "    </tr>\n",
       "    <tr>\n",
       "      <th>1</th>\n",
       "      <td>1046</td>\n",
       "      <td>0</td>\n",
       "      <td>2.8</td>\n",
       "      <td>0</td>\n",
       "      <td>0.0</td>\n",
       "      <td>0</td>\n",
       "      <td>58</td>\n",
       "      <td>0.2</td>\n",
       "      <td>100</td>\n",
       "      <td>8</td>\n",
       "      <td>0</td>\n",
       "      <td>259</td>\n",
       "      <td>1040</td>\n",
       "      <td>3863.0</td>\n",
       "      <td>9</td>\n",
       "      <td>0</td>\n",
       "      <td>0</td>\n",
       "      <td>0</td>\n",
       "      <td>Pahalı</td>\n",
       "    </tr>\n",
       "    <tr>\n",
       "      <th>2</th>\n",
       "      <td>843</td>\n",
       "      <td>1</td>\n",
       "      <td>1.3</td>\n",
       "      <td>0</td>\n",
       "      <td>1.0</td>\n",
       "      <td>1</td>\n",
       "      <td>16</td>\n",
       "      <td>0.9</td>\n",
       "      <td>119</td>\n",
       "      <td>7</td>\n",
       "      <td>4</td>\n",
       "      <td>593</td>\n",
       "      <td>732</td>\n",
       "      <td>1734.0</td>\n",
       "      <td>14</td>\n",
       "      <td>1</td>\n",
       "      <td>1</td>\n",
       "      <td>0</td>\n",
       "      <td>Ucuz</td>\n",
       "    </tr>\n",
       "    <tr>\n",
       "      <th>3</th>\n",
       "      <td>894</td>\n",
       "      <td>1</td>\n",
       "      <td>0.5</td>\n",
       "      <td>0</td>\n",
       "      <td>1.0</td>\n",
       "      <td>0</td>\n",
       "      <td>50</td>\n",
       "      <td>0.5</td>\n",
       "      <td>199</td>\n",
       "      <td>3</td>\n",
       "      <td>14</td>\n",
       "      <td>1285</td>\n",
       "      <td>1462</td>\n",
       "      <td>3615.0</td>\n",
       "      <td>6</td>\n",
       "      <td>0</td>\n",
       "      <td>1</td>\n",
       "      <td>0</td>\n",
       "      <td>Pahalı</td>\n",
       "    </tr>\n",
       "    <tr>\n",
       "      <th>4</th>\n",
       "      <td>936</td>\n",
       "      <td>1</td>\n",
       "      <td>1.0</td>\n",
       "      <td>1</td>\n",
       "      <td>1.0</td>\n",
       "      <td>1</td>\n",
       "      <td>18</td>\n",
       "      <td>0.2</td>\n",
       "      <td>153</td>\n",
       "      <td>3</td>\n",
       "      <td>18</td>\n",
       "      <td>1330</td>\n",
       "      <td>1686</td>\n",
       "      <td>2391.0</td>\n",
       "      <td>3</td>\n",
       "      <td>0</td>\n",
       "      <td>0</td>\n",
       "      <td>0</td>\n",
       "      <td>Normal</td>\n",
       "    </tr>\n",
       "  </tbody>\n",
       "</table>\n",
       "</div>"
      ],
      "text/plain": [
       "   BataryaGucu  Bluetooth  MikroislemciHizi  CiftHat  OnKameraMP  4G  \\\n",
       "0         1325          1               1.9        1         2.0   1   \n",
       "1         1046          0               2.8        0         0.0   0   \n",
       "2          843          1               1.3        0         1.0   1   \n",
       "3          894          1               0.5        0         1.0   0   \n",
       "4          936          1               1.0        1         1.0   1   \n",
       "\n",
       "   DahiliBellek  Kalinlik  Agirlik  CekirdekSayisi  ArkaKameraMP  \\\n",
       "0            50       0.1      146               1            10   \n",
       "1            58       0.2      100               8             0   \n",
       "2            16       0.9      119               7             4   \n",
       "3            50       0.5      199               3            14   \n",
       "4            18       0.2      153               3            18   \n",
       "\n",
       "   CozunurlukYükseklik  CozunurlukGenislik     RAM  BataryaOmru  3G  \\\n",
       "0                  499                 695  2328.0            2   0   \n",
       "1                  259                1040  3863.0            9   0   \n",
       "2                  593                 732  1734.0           14   1   \n",
       "3                 1285                1462  3615.0            6   0   \n",
       "4                 1330                1686  2391.0            3   0   \n",
       "\n",
       "   Dokunmatik  WiFi FiyatAraligi  \n",
       "0           1     1       Normal  \n",
       "1           0     0       Pahalı  \n",
       "2           1     0         Ucuz  \n",
       "3           1     0       Pahalı  \n",
       "4           0     0       Normal  "
      ]
     },
     "execution_count": 40,
     "metadata": {},
     "output_type": "execute_result"
    }
   ],
   "source": [
    "df.head() # tüm kategorik değerleri sayısallaştırdık."
   ]
  },
  {
   "cell_type": "markdown",
   "metadata": {},
   "source": [
    "## MAKİNE ÖĞRENMESİ MODELLEMELERİ"
   ]
  },
  {
   "cell_type": "code",
   "execution_count": 41,
   "metadata": {},
   "outputs": [],
   "source": [
    "X = df.drop(\"FiyatAraligi\", axis = 1)  # bağımsız değişken\n",
    "y = df.FiyatAraligi # bağımlı değişken"
   ]
  },
  {
   "cell_type": "code",
   "execution_count": 42,
   "metadata": {
    "collapsed": true
   },
   "outputs": [
    {
     "data": {
      "text/html": [
       "<div>\n",
       "<style scoped>\n",
       "    .dataframe tbody tr th:only-of-type {\n",
       "        vertical-align: middle;\n",
       "    }\n",
       "\n",
       "    .dataframe tbody tr th {\n",
       "        vertical-align: top;\n",
       "    }\n",
       "\n",
       "    .dataframe thead th {\n",
       "        text-align: right;\n",
       "    }\n",
       "</style>\n",
       "<table border=\"1\" class=\"dataframe\">\n",
       "  <thead>\n",
       "    <tr style=\"text-align: right;\">\n",
       "      <th></th>\n",
       "      <th>BataryaGucu</th>\n",
       "      <th>Bluetooth</th>\n",
       "      <th>MikroislemciHizi</th>\n",
       "      <th>CiftHat</th>\n",
       "      <th>OnKameraMP</th>\n",
       "      <th>4G</th>\n",
       "      <th>DahiliBellek</th>\n",
       "      <th>Kalinlik</th>\n",
       "      <th>Agirlik</th>\n",
       "      <th>CekirdekSayisi</th>\n",
       "      <th>ArkaKameraMP</th>\n",
       "      <th>CozunurlukYükseklik</th>\n",
       "      <th>CozunurlukGenislik</th>\n",
       "      <th>RAM</th>\n",
       "      <th>BataryaOmru</th>\n",
       "      <th>3G</th>\n",
       "      <th>Dokunmatik</th>\n",
       "      <th>WiFi</th>\n",
       "    </tr>\n",
       "  </thead>\n",
       "  <tbody>\n",
       "    <tr>\n",
       "      <th>0</th>\n",
       "      <td>1325</td>\n",
       "      <td>1</td>\n",
       "      <td>1.9</td>\n",
       "      <td>1</td>\n",
       "      <td>2.0</td>\n",
       "      <td>1</td>\n",
       "      <td>50</td>\n",
       "      <td>0.1</td>\n",
       "      <td>146</td>\n",
       "      <td>1</td>\n",
       "      <td>10</td>\n",
       "      <td>499</td>\n",
       "      <td>695</td>\n",
       "      <td>2328.0</td>\n",
       "      <td>2</td>\n",
       "      <td>0</td>\n",
       "      <td>1</td>\n",
       "      <td>1</td>\n",
       "    </tr>\n",
       "    <tr>\n",
       "      <th>1</th>\n",
       "      <td>1046</td>\n",
       "      <td>0</td>\n",
       "      <td>2.8</td>\n",
       "      <td>0</td>\n",
       "      <td>0.0</td>\n",
       "      <td>0</td>\n",
       "      <td>58</td>\n",
       "      <td>0.2</td>\n",
       "      <td>100</td>\n",
       "      <td>8</td>\n",
       "      <td>0</td>\n",
       "      <td>259</td>\n",
       "      <td>1040</td>\n",
       "      <td>3863.0</td>\n",
       "      <td>9</td>\n",
       "      <td>0</td>\n",
       "      <td>0</td>\n",
       "      <td>0</td>\n",
       "    </tr>\n",
       "    <tr>\n",
       "      <th>2</th>\n",
       "      <td>843</td>\n",
       "      <td>1</td>\n",
       "      <td>1.3</td>\n",
       "      <td>0</td>\n",
       "      <td>1.0</td>\n",
       "      <td>1</td>\n",
       "      <td>16</td>\n",
       "      <td>0.9</td>\n",
       "      <td>119</td>\n",
       "      <td>7</td>\n",
       "      <td>4</td>\n",
       "      <td>593</td>\n",
       "      <td>732</td>\n",
       "      <td>1734.0</td>\n",
       "      <td>14</td>\n",
       "      <td>1</td>\n",
       "      <td>1</td>\n",
       "      <td>0</td>\n",
       "    </tr>\n",
       "    <tr>\n",
       "      <th>3</th>\n",
       "      <td>894</td>\n",
       "      <td>1</td>\n",
       "      <td>0.5</td>\n",
       "      <td>0</td>\n",
       "      <td>1.0</td>\n",
       "      <td>0</td>\n",
       "      <td>50</td>\n",
       "      <td>0.5</td>\n",
       "      <td>199</td>\n",
       "      <td>3</td>\n",
       "      <td>14</td>\n",
       "      <td>1285</td>\n",
       "      <td>1462</td>\n",
       "      <td>3615.0</td>\n",
       "      <td>6</td>\n",
       "      <td>0</td>\n",
       "      <td>1</td>\n",
       "      <td>0</td>\n",
       "    </tr>\n",
       "    <tr>\n",
       "      <th>4</th>\n",
       "      <td>936</td>\n",
       "      <td>1</td>\n",
       "      <td>1.0</td>\n",
       "      <td>1</td>\n",
       "      <td>1.0</td>\n",
       "      <td>1</td>\n",
       "      <td>18</td>\n",
       "      <td>0.2</td>\n",
       "      <td>153</td>\n",
       "      <td>3</td>\n",
       "      <td>18</td>\n",
       "      <td>1330</td>\n",
       "      <td>1686</td>\n",
       "      <td>2391.0</td>\n",
       "      <td>3</td>\n",
       "      <td>0</td>\n",
       "      <td>0</td>\n",
       "      <td>0</td>\n",
       "    </tr>\n",
       "    <tr>\n",
       "      <th>...</th>\n",
       "      <td>...</td>\n",
       "      <td>...</td>\n",
       "      <td>...</td>\n",
       "      <td>...</td>\n",
       "      <td>...</td>\n",
       "      <td>...</td>\n",
       "      <td>...</td>\n",
       "      <td>...</td>\n",
       "      <td>...</td>\n",
       "      <td>...</td>\n",
       "      <td>...</td>\n",
       "      <td>...</td>\n",
       "      <td>...</td>\n",
       "      <td>...</td>\n",
       "      <td>...</td>\n",
       "      <td>...</td>\n",
       "      <td>...</td>\n",
       "      <td>...</td>\n",
       "    </tr>\n",
       "    <tr>\n",
       "      <th>1995</th>\n",
       "      <td>689</td>\n",
       "      <td>1</td>\n",
       "      <td>2.9</td>\n",
       "      <td>0</td>\n",
       "      <td>3.0</td>\n",
       "      <td>0</td>\n",
       "      <td>7</td>\n",
       "      <td>0.8</td>\n",
       "      <td>147</td>\n",
       "      <td>2</td>\n",
       "      <td>6</td>\n",
       "      <td>487</td>\n",
       "      <td>722</td>\n",
       "      <td>1241.0</td>\n",
       "      <td>16</td>\n",
       "      <td>0</td>\n",
       "      <td>1</td>\n",
       "      <td>1</td>\n",
       "    </tr>\n",
       "    <tr>\n",
       "      <th>1996</th>\n",
       "      <td>1654</td>\n",
       "      <td>1</td>\n",
       "      <td>1.8</td>\n",
       "      <td>1</td>\n",
       "      <td>1.0</td>\n",
       "      <td>1</td>\n",
       "      <td>11</td>\n",
       "      <td>0.3</td>\n",
       "      <td>146</td>\n",
       "      <td>7</td>\n",
       "      <td>2</td>\n",
       "      <td>1184</td>\n",
       "      <td>1719</td>\n",
       "      <td>1070.0</td>\n",
       "      <td>14</td>\n",
       "      <td>0</td>\n",
       "      <td>0</td>\n",
       "      <td>0</td>\n",
       "    </tr>\n",
       "    <tr>\n",
       "      <th>1997</th>\n",
       "      <td>742</td>\n",
       "      <td>1</td>\n",
       "      <td>2.2</td>\n",
       "      <td>0</td>\n",
       "      <td>4.0</td>\n",
       "      <td>1</td>\n",
       "      <td>56</td>\n",
       "      <td>0.2</td>\n",
       "      <td>190</td>\n",
       "      <td>7</td>\n",
       "      <td>14</td>\n",
       "      <td>577</td>\n",
       "      <td>1359</td>\n",
       "      <td>3557.0</td>\n",
       "      <td>12</td>\n",
       "      <td>1</td>\n",
       "      <td>0</td>\n",
       "      <td>0</td>\n",
       "    </tr>\n",
       "    <tr>\n",
       "      <th>1998</th>\n",
       "      <td>704</td>\n",
       "      <td>1</td>\n",
       "      <td>2.2</td>\n",
       "      <td>0</td>\n",
       "      <td>4.0</td>\n",
       "      <td>1</td>\n",
       "      <td>53</td>\n",
       "      <td>0.2</td>\n",
       "      <td>186</td>\n",
       "      <td>6</td>\n",
       "      <td>6</td>\n",
       "      <td>251</td>\n",
       "      <td>1013</td>\n",
       "      <td>3653.0</td>\n",
       "      <td>15</td>\n",
       "      <td>0</td>\n",
       "      <td>0</td>\n",
       "      <td>0</td>\n",
       "    </tr>\n",
       "    <tr>\n",
       "      <th>1999</th>\n",
       "      <td>1872</td>\n",
       "      <td>1</td>\n",
       "      <td>0.5</td>\n",
       "      <td>1</td>\n",
       "      <td>5.0</td>\n",
       "      <td>0</td>\n",
       "      <td>26</td>\n",
       "      <td>0.5</td>\n",
       "      <td>172</td>\n",
       "      <td>4</td>\n",
       "      <td>10</td>\n",
       "      <td>672</td>\n",
       "      <td>1088</td>\n",
       "      <td>2273.0</td>\n",
       "      <td>8</td>\n",
       "      <td>0</td>\n",
       "      <td>1</td>\n",
       "      <td>0</td>\n",
       "    </tr>\n",
       "  </tbody>\n",
       "</table>\n",
       "<p>2000 rows × 18 columns</p>\n",
       "</div>"
      ],
      "text/plain": [
       "      BataryaGucu  Bluetooth  MikroislemciHizi  CiftHat  OnKameraMP  4G  \\\n",
       "0            1325          1               1.9        1         2.0   1   \n",
       "1            1046          0               2.8        0         0.0   0   \n",
       "2             843          1               1.3        0         1.0   1   \n",
       "3             894          1               0.5        0         1.0   0   \n",
       "4             936          1               1.0        1         1.0   1   \n",
       "...           ...        ...               ...      ...         ...  ..   \n",
       "1995          689          1               2.9        0         3.0   0   \n",
       "1996         1654          1               1.8        1         1.0   1   \n",
       "1997          742          1               2.2        0         4.0   1   \n",
       "1998          704          1               2.2        0         4.0   1   \n",
       "1999         1872          1               0.5        1         5.0   0   \n",
       "\n",
       "      DahiliBellek  Kalinlik  Agirlik  CekirdekSayisi  ArkaKameraMP  \\\n",
       "0               50       0.1      146               1            10   \n",
       "1               58       0.2      100               8             0   \n",
       "2               16       0.9      119               7             4   \n",
       "3               50       0.5      199               3            14   \n",
       "4               18       0.2      153               3            18   \n",
       "...            ...       ...      ...             ...           ...   \n",
       "1995             7       0.8      147               2             6   \n",
       "1996            11       0.3      146               7             2   \n",
       "1997            56       0.2      190               7            14   \n",
       "1998            53       0.2      186               6             6   \n",
       "1999            26       0.5      172               4            10   \n",
       "\n",
       "      CozunurlukYükseklik  CozunurlukGenislik     RAM  BataryaOmru  3G  \\\n",
       "0                     499                 695  2328.0            2   0   \n",
       "1                     259                1040  3863.0            9   0   \n",
       "2                     593                 732  1734.0           14   1   \n",
       "3                    1285                1462  3615.0            6   0   \n",
       "4                    1330                1686  2391.0            3   0   \n",
       "...                   ...                 ...     ...          ...  ..   \n",
       "1995                  487                 722  1241.0           16   0   \n",
       "1996                 1184                1719  1070.0           14   0   \n",
       "1997                  577                1359  3557.0           12   1   \n",
       "1998                  251                1013  3653.0           15   0   \n",
       "1999                  672                1088  2273.0            8   0   \n",
       "\n",
       "      Dokunmatik  WiFi  \n",
       "0              1     1  \n",
       "1              0     0  \n",
       "2              1     0  \n",
       "3              1     0  \n",
       "4              0     0  \n",
       "...          ...   ...  \n",
       "1995           1     1  \n",
       "1996           0     0  \n",
       "1997           0     0  \n",
       "1998           0     0  \n",
       "1999           1     0  \n",
       "\n",
       "[2000 rows x 18 columns]"
      ]
     },
     "execution_count": 42,
     "metadata": {},
     "output_type": "execute_result"
    }
   ],
   "source": [
    "X"
   ]
  },
  {
   "cell_type": "code",
   "execution_count": 43,
   "metadata": {
    "collapsed": true
   },
   "outputs": [
    {
     "data": {
      "text/plain": [
       "0         Normal\n",
       "1         Pahalı\n",
       "2           Ucuz\n",
       "3         Pahalı\n",
       "4         Normal\n",
       "          ...   \n",
       "1995    Çok Ucuz\n",
       "1996        Ucuz\n",
       "1997      Pahalı\n",
       "1998      Normal\n",
       "1999      Normal\n",
       "Name: FiyatAraligi, Length: 2000, dtype: object"
      ]
     },
     "execution_count": 43,
     "metadata": {},
     "output_type": "execute_result"
    }
   ],
   "source": [
    "y"
   ]
  },
  {
   "cell_type": "code",
   "execution_count": 44,
   "metadata": {},
   "outputs": [],
   "source": [
    "X_train, X_test, y_train, y_test = train_test_split(X, y, test_size=0.15, random_state=42)"
   ]
  },
  {
   "cell_type": "markdown",
   "metadata": {},
   "source": [
    "Eğitim kümesi ile GaussianNB, DecisionTree ve KNN modelleri eğitilmeli ve her bir model için karmaşıklık matrisi çizdirilmeli, doğruluk skoru elde edilerek modeller arasındaki başarı durumu karşılaştırma yapılmalıdır."
   ]
  },
  {
   "cell_type": "markdown",
   "metadata": {},
   "source": [
    "#### GaussianNB Modelini Eğitme"
   ]
  },
  {
   "cell_type": "code",
   "execution_count": 45,
   "metadata": {},
   "outputs": [],
   "source": [
    "nb = GaussianNB()"
   ]
  },
  {
   "cell_type": "code",
   "execution_count": 46,
   "metadata": {},
   "outputs": [],
   "source": [
    "nb_model = nb.fit(X_train, y_train)"
   ]
  },
  {
   "cell_type": "code",
   "execution_count": 47,
   "metadata": {},
   "outputs": [],
   "source": [
    "y_pred = nb_model.predict(X_test)"
   ]
  },
  {
   "cell_type": "code",
   "execution_count": 48,
   "metadata": {},
   "outputs": [
    {
     "data": {
      "text/plain": [
       "0.82"
      ]
     },
     "execution_count": 48,
     "metadata": {},
     "output_type": "execute_result"
    }
   ],
   "source": [
    "accuracy_score(y_test, y_pred) # doğruluk skorunu gözlemleyelim."
   ]
  },
  {
   "cell_type": "code",
   "execution_count": 49,
   "metadata": {
    "collapsed": true
   },
   "outputs": [
    {
     "data": {
      "text/plain": [
       "array([[50,  8, 13,  0],\n",
       "       [ 5, 65,  1,  0],\n",
       "       [13,  0, 52,  6],\n",
       "       [ 0,  0,  8, 79]], dtype=int64)"
      ]
     },
     "execution_count": 49,
     "metadata": {},
     "output_type": "execute_result"
    }
   ],
   "source": [
    "# karmaşıklık matrisini gözlemelyelim.\n",
    "KarmasiklikMatrisi = confusion_matrix(y_test, y_pred)\n",
    "KarmasiklikMatrisi"
   ]
  },
  {
   "cell_type": "code",
   "execution_count": 50,
   "metadata": {
    "collapsed": true
   },
   "outputs": [
    {
     "data": {
      "text/plain": [
       "0.8205859195214554"
      ]
     },
     "execution_count": 50,
     "metadata": {},
     "output_type": "execute_result"
    }
   ],
   "source": [
    "# Modelin precission değerini gözlemleyelim.\n",
    "PrecisionScore = precision_score(y_test, y_pred, average=\"weighted\")\n",
    "PrecisionScore"
   ]
  },
  {
   "cell_type": "markdown",
   "metadata": {},
   "source": [
    "* Precision değerinin yüksel olması model seçiminde önemli bir kriterdir.\n",
    "* GaussianNB modelinin Precision değeri yaklaşık %82 doğrudur.\n",
    "* Modelin oldukça iyi bir hassasiyete sahip olduğunu söyleyebiliriz."
   ]
  },
  {
   "cell_type": "code",
   "execution_count": 51,
   "metadata": {
    "collapsed": true
   },
   "outputs": [
    {
     "data": {
      "text/plain": [
       "0.82"
      ]
     },
     "execution_count": 51,
     "metadata": {},
     "output_type": "execute_result"
    }
   ],
   "source": [
    "# Modelin Recall değerini görüntüleyelim.\n",
    "RecallScore = recall_score(y_test, y_pred, average=\"weighted\")\n",
    "RecallScore"
   ]
  },
  {
   "cell_type": "markdown",
   "metadata": {},
   "source": [
    "> Recall: Positive olarak tahmin etmemiz gereken işlemlerin ne kadarını Positive olarak tahmin ettiğini gösteren bir metriktir."
   ]
  },
  {
   "cell_type": "code",
   "execution_count": 52,
   "metadata": {
    "collapsed": true
   },
   "outputs": [
    {
     "data": {
      "text/plain": [
       "0.8200636716502233"
      ]
     },
     "execution_count": 52,
     "metadata": {},
     "output_type": "execute_result"
    }
   ],
   "source": [
    "# Modelin F1Score değerini görüntüleyelim.\n",
    "F1Score = f1_score(y_test, y_pred, average=\"weighted\")\n",
    "F1Score"
   ]
  },
  {
   "cell_type": "markdown",
   "metadata": {},
   "source": [
    "* F1_Score değeri 1'e eşitken en iyi değerine ulaşır.\n",
    "* Modelin F1_Score değeri 1'e yakındır."
   ]
  },
  {
   "cell_type": "markdown",
   "metadata": {},
   "source": [
    "**Modelin F1_Score, Precision ve Recall değerlerini \"ClassificationReport\" aracılığıyla yazdıralım.**"
   ]
  },
  {
   "cell_type": "code",
   "execution_count": 53,
   "metadata": {
    "scrolled": true
   },
   "outputs": [
    {
     "name": "stdout",
     "output_type": "stream",
     "text": [
      "              precision    recall  f1-score   support\n",
      "\n",
      "      Normal       0.74      0.70      0.72        71\n",
      "      Pahalı       0.89      0.92      0.90        71\n",
      "        Ucuz       0.70      0.73      0.72        71\n",
      "    Çok Ucuz       0.93      0.91      0.92        87\n",
      "\n",
      "    accuracy                           0.82       300\n",
      "   macro avg       0.81      0.82      0.81       300\n",
      "weighted avg       0.82      0.82      0.82       300\n",
      "\n"
     ]
    }
   ],
   "source": [
    "print(classification_report(y_test, y_pred))"
   ]
  },
  {
   "cell_type": "markdown",
   "metadata": {},
   "source": [
    "#### Decision Tree Classifier Modelini Eğitme"
   ]
  },
  {
   "cell_type": "code",
   "execution_count": 55,
   "metadata": {},
   "outputs": [],
   "source": [
    "Dtc = DecisionTreeClassifier(random_state = 42, criterion=\"gini\")\n",
    "Dtc_Model = Dtc.fit(X_train, y_train)"
   ]
  },
  {
   "cell_type": "code",
   "execution_count": 56,
   "metadata": {},
   "outputs": [],
   "source": [
    "y_pred = Dtc_Model.predict(X_test)"
   ]
  },
  {
   "cell_type": "code",
   "execution_count": 57,
   "metadata": {
    "collapsed": true
   },
   "outputs": [
    {
     "data": {
      "text/plain": [
       "0.85"
      ]
     },
     "execution_count": 57,
     "metadata": {},
     "output_type": "execute_result"
    }
   ],
   "source": [
    "accuracy_score(y_test, y_pred) # Modelin %85 oranında doğruluk oranı vardır."
   ]
  },
  {
   "cell_type": "code",
   "execution_count": 58,
   "metadata": {
    "collapsed": true
   },
   "outputs": [
    {
     "data": {
      "text/plain": [
       "array([[52, 11,  8,  0],\n",
       "       [ 6, 65,  0,  0],\n",
       "       [ 7,  0, 59,  5],\n",
       "       [ 0,  0,  8, 79]], dtype=int64)"
      ]
     },
     "execution_count": 58,
     "metadata": {},
     "output_type": "execute_result"
    }
   ],
   "source": [
    "# Karmaşıklık matrisini görüntüleyelim\n",
    "KarmasiklikMatrisi2 = confusion_matrix(y_test, y_pred)\n",
    "KarmasiklikMatrisi2"
   ]
  },
  {
   "cell_type": "markdown",
   "metadata": {},
   "source": [
    "> Başarı oranının artacağı düşünüldüğü için parametre olarak criterion=\"entropy\" değişikliği yapıyoruz."
   ]
  },
  {
   "cell_type": "code",
   "execution_count": 59,
   "metadata": {},
   "outputs": [],
   "source": [
    "Dtc = DecisionTreeClassifier(criterion=\"entropy\")\n",
    "Dtc_model = Dtc.fit(X_train, y_train)"
   ]
  },
  {
   "cell_type": "code",
   "execution_count": 60,
   "metadata": {},
   "outputs": [],
   "source": [
    "y_pred = Dtc_model.predict(X_test)"
   ]
  },
  {
   "cell_type": "code",
   "execution_count": 61,
   "metadata": {
    "collapsed": true
   },
   "outputs": [
    {
     "data": {
      "text/plain": [
       "0.8533333333333334"
      ]
     },
     "execution_count": 61,
     "metadata": {},
     "output_type": "execute_result"
    }
   ],
   "source": [
    "accuracy_score(y_test, y_pred) # Doğruluk skoru oranı değişmemiştir. Hala %85 oranında"
   ]
  },
  {
   "cell_type": "code",
   "execution_count": 62,
   "metadata": {
    "collapsed": true
   },
   "outputs": [
    {
     "data": {
      "text/plain": [
       "array([[55,  9,  7,  0],\n",
       "       [10, 61,  0,  0],\n",
       "       [ 8,  0, 59,  4],\n",
       "       [ 0,  0,  6, 81]], dtype=int64)"
      ]
     },
     "execution_count": 62,
     "metadata": {},
     "output_type": "execute_result"
    }
   ],
   "source": [
    "# Karmaşıklık matrisini görüntüleyerekdeğişiklik olmadığını görüntüleyelim\n",
    "KarmasiklikMatrisi3 = confusion_matrix(y_test,y_pred)\n",
    "KarmasiklikMatrisi3"
   ]
  },
  {
   "cell_type": "code",
   "execution_count": 63,
   "metadata": {
    "collapsed": true
   },
   "outputs": [
    {
     "data": {
      "text/plain": [
       "0.854836723882856"
      ]
     },
     "execution_count": 63,
     "metadata": {},
     "output_type": "execute_result"
    }
   ],
   "source": [
    "PrecisionScore = precision_score(y_test,y_pred, average=\"weighted\")\n",
    "PrecisionScore"
   ]
  },
  {
   "cell_type": "markdown",
   "metadata": {},
   "source": [
    "* Precision değerinin yüksek olması model seçimi için önemli bir kriterdir.\n",
    "* DecisionTree modelinin Precision değeri yaklaşık %85 doğrudur.\n",
    "* Modelin oldukça iyi bir hassasiyeti olduğunu söyleyebiliriz."
   ]
  },
  {
   "cell_type": "code",
   "execution_count": 64,
   "metadata": {
    "collapsed": true
   },
   "outputs": [
    {
     "data": {
      "text/plain": [
       "0.8533333333333334"
      ]
     },
     "execution_count": 64,
     "metadata": {},
     "output_type": "execute_result"
    }
   ],
   "source": [
    "# Modelin Recall değerini görüntüleyelim.\n",
    "RecallScore = recall_score(y_test, y_pred, average=\"weighted\")\n",
    "RecallScore"
   ]
  },
  {
   "cell_type": "code",
   "execution_count": 65,
   "metadata": {
    "collapsed": true
   },
   "outputs": [
    {
     "data": {
      "text/plain": [
       "0.8539933609237171"
      ]
     },
     "execution_count": 65,
     "metadata": {},
     "output_type": "execute_result"
    }
   ],
   "source": [
    "# Modelin F1_Score değerini görüntülyelim\n",
    "F1Score = f1_score(y_test, y_pred, average=\"weighted\")\n",
    "F1Score"
   ]
  },
  {
   "cell_type": "markdown",
   "metadata": {},
   "source": [
    "* **F1_Score değeri 1 e eşitken en iyi değerini taşır.**\n",
    "* Modelin F1_Score değeri 1 e yakındır."
   ]
  },
  {
   "cell_type": "markdown",
   "metadata": {},
   "source": [
    "> Modellerin; F1Score, Precision, Recall değerilerini \"classification_report\" aracılığı ile yazdıralım."
   ]
  },
  {
   "cell_type": "code",
   "execution_count": 66,
   "metadata": {},
   "outputs": [
    {
     "name": "stdout",
     "output_type": "stream",
     "text": [
      "              precision    recall  f1-score   support\n",
      "\n",
      "      Normal       0.75      0.77      0.76        71\n",
      "      Pahalı       0.87      0.86      0.87        71\n",
      "        Ucuz       0.82      0.83      0.83        71\n",
      "    Çok Ucuz       0.95      0.93      0.94        87\n",
      "\n",
      "    accuracy                           0.85       300\n",
      "   macro avg       0.85      0.85      0.85       300\n",
      "weighted avg       0.85      0.85      0.85       300\n",
      "\n"
     ]
    }
   ],
   "source": [
    "print(classification_report(y_test, y_pred))"
   ]
  },
  {
   "cell_type": "markdown",
   "metadata": {},
   "source": [
    "**K-Nearest Neigbors (KNN) Modelini Eğitme**"
   ]
  },
  {
   "cell_type": "code",
   "execution_count": 67,
   "metadata": {},
   "outputs": [],
   "source": [
    "knn_params = {\"n_neighbors\":np.arange(2,50)}"
   ]
  },
  {
   "cell_type": "markdown",
   "metadata": {},
   "source": [
    "2 ile 50 arasındaki her sayıyı komşu sayısı olarak deniyecek ve en iyi komşu değerini bulacağız."
   ]
  },
  {
   "cell_type": "code",
   "execution_count": 68,
   "metadata": {
    "collapsed": true
   },
   "outputs": [
    {
     "data": {
      "text/plain": [
       "GridSearchCV(cv=3, estimator=KNeighborsClassifier(),\n",
       "             param_grid={'n_neighbors': array([ 2,  3,  4,  5,  6,  7,  8,  9, 10, 11, 12, 13, 14, 15, 16, 17, 18,\n",
       "       19, 20, 21, 22, 23, 24, 25, 26, 27, 28, 29, 30, 31, 32, 33, 34, 35,\n",
       "       36, 37, 38, 39, 40, 41, 42, 43, 44, 45, 46, 47, 48, 49])})"
      ]
     },
     "execution_count": 68,
     "metadata": {},
     "output_type": "execute_result"
    }
   ],
   "source": [
    "knn = KNeighborsClassifier()\n",
    "knn_cv = GridSearchCV(knn, knn_params, cv = 3)\n",
    "knn_cv.fit(X_train, y_train)"
   ]
  },
  {
   "cell_type": "code",
   "execution_count": 69,
   "metadata": {
    "collapsed": true
   },
   "outputs": [
    {
     "name": "stdout",
     "output_type": "stream",
     "text": [
      "En iyi skor: 0.933531096860504\n",
      "En iyi parametreler: {'n_neighbors': 13}\n"
     ]
    }
   ],
   "source": [
    "print(\"En iyi skor:\", str(knn_cv.best_score_))\n",
    "print(\"En iyi parametreler:\", str(knn_cv.best_params_))"
   ]
  },
  {
   "cell_type": "code",
   "execution_count": 70,
   "metadata": {},
   "outputs": [],
   "source": [
    "# En iyi komşu değeri 13 olduğunu gözlemledik\n",
    "knn = KNeighborsClassifier(13)\n",
    "knn_tuned = knn.fit(X_train, y_train)"
   ]
  },
  {
   "cell_type": "code",
   "execution_count": 71,
   "metadata": {},
   "outputs": [],
   "source": [
    "y_pred = knn_tuned.predict(X_test)"
   ]
  },
  {
   "cell_type": "code",
   "execution_count": 72,
   "metadata": {
    "collapsed": true
   },
   "outputs": [
    {
     "data": {
      "text/plain": [
       "0.9266666666666666"
      ]
     },
     "execution_count": 72,
     "metadata": {},
     "output_type": "execute_result"
    }
   ],
   "source": [
    "accuracy_score(y_test, y_pred) # Modelin %92 oranında doğruluk oranı vardır."
   ]
  },
  {
   "cell_type": "code",
   "execution_count": 73,
   "metadata": {
    "collapsed": true
   },
   "outputs": [
    {
     "data": {
      "text/plain": [
       "array([[63,  4,  4,  0],\n",
       "       [ 2, 69,  0,  0],\n",
       "       [ 4,  0, 63,  4],\n",
       "       [ 0,  0,  4, 83]], dtype=int64)"
      ]
     },
     "execution_count": 73,
     "metadata": {},
     "output_type": "execute_result"
    }
   ],
   "source": [
    "KarmasiklikMatrisi4 = confusion_matrix(y_test,y_pred)\n",
    "KarmasiklikMatrisi4"
   ]
  },
  {
   "cell_type": "code",
   "execution_count": 76,
   "metadata": {
    "collapsed": true
   },
   "outputs": [
    {
     "data": {
      "text/plain": [
       "0.9264522533253922"
      ]
     },
     "execution_count": 76,
     "metadata": {},
     "output_type": "execute_result"
    }
   ],
   "source": [
    "# Modelin Precision değerini gözlemleyelim\n",
    "PrecisionScore = precision_score(y_test, y_pred, average=\"weighted\")\n",
    "PrecisionScore"
   ]
  },
  {
   "cell_type": "markdown",
   "metadata": {},
   "source": [
    "* Precision değerinin yüksek olması model seçimi için önemli bir kriterdir.\n",
    "* KNN modelinin Precision değeri yaklaşık %92 doğrudur.\n",
    "* Modelin oldukça iyi bir hassasiyeti olduğunu söyleyebiliriz."
   ]
  },
  {
   "cell_type": "code",
   "execution_count": 77,
   "metadata": {
    "collapsed": true
   },
   "outputs": [
    {
     "data": {
      "text/plain": [
       "0.9266666666666666"
      ]
     },
     "execution_count": 77,
     "metadata": {},
     "output_type": "execute_result"
    }
   ],
   "source": [
    "# Modelin Recoll değerini gözlemleyelim\n",
    "RecallScore = recall_score(y_test, y_pred, average=\"weighted\")\n",
    "RecallScore"
   ]
  },
  {
   "cell_type": "code",
   "execution_count": 78,
   "metadata": {
    "collapsed": true
   },
   "outputs": [
    {
     "data": {
      "text/plain": [
       "0.9264722222222223"
      ]
     },
     "execution_count": 78,
     "metadata": {},
     "output_type": "execute_result"
    }
   ],
   "source": [
    "# Modelin F1_Score değerini gözlemleyelim\n",
    "F1Score = f1_score(y_test, y_pred, average=\"weighted\")\n",
    "F1Score"
   ]
  },
  {
   "cell_type": "markdown",
   "metadata": {},
   "source": [
    "* **F1_Score değeri 1 e eşitken en iyi değerini taşır.**\n",
    "* Modelin F1_Score değeri 1 e yakındır."
   ]
  },
  {
   "cell_type": "code",
   "execution_count": 79,
   "metadata": {},
   "outputs": [
    {
     "name": "stdout",
     "output_type": "stream",
     "text": [
      "              precision    recall  f1-score   support\n",
      "\n",
      "      Normal       0.91      0.89      0.90        71\n",
      "      Pahalı       0.95      0.97      0.96        71\n",
      "        Ucuz       0.89      0.89      0.89        71\n",
      "    Çok Ucuz       0.95      0.95      0.95        87\n",
      "\n",
      "    accuracy                           0.93       300\n",
      "   macro avg       0.92      0.93      0.92       300\n",
      "weighted avg       0.93      0.93      0.93       300\n",
      "\n"
     ]
    }
   ],
   "source": [
    "print(classification_report(y_test, y_pred))"
   ]
  },
  {
   "cell_type": "markdown",
   "metadata": {},
   "source": [
    "F1_Score, Precision, Recall dedğerleri ile modellerin başarıları değerlendirildiğinde;\n",
    "* GaussianNB, DecisionTreee ve KNN modelleri arasında en başarılı modelin KNN olduğunu söyleyebiliriz.\n",
    "* GaussianNB, DecisionTreee ve KNN modelleri arasında en başarısız modelin GaussianNB olduğunu söyleyebiliriz."
   ]
  },
  {
   "cell_type": "code",
   "execution_count": null,
   "metadata": {},
   "outputs": [],
   "source": []
  }
 ],
 "metadata": {
  "kernelspec": {
   "display_name": "Python 3 (ipykernel)",
   "language": "python",
   "name": "python3"
  },
  "language_info": {
   "codemirror_mode": {
    "name": "ipython",
    "version": 3
   },
   "file_extension": ".py",
   "mimetype": "text/x-python",
   "name": "python",
   "nbconvert_exporter": "python",
   "pygments_lexer": "ipython3",
   "version": "3.9.7"
  }
 },
 "nbformat": 4,
 "nbformat_minor": 4
}
