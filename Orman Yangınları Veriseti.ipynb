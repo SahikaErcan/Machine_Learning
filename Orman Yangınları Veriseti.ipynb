{
 "cells": [
  {
   "cell_type": "code",
   "execution_count": 1,
   "metadata": {},
   "outputs": [],
   "source": [
    "import pandas as pd\n",
    "import numpy as np\n",
    "import matplotlib.pyplot as plt"
   ]
  },
  {
   "cell_type": "code",
   "execution_count": 2,
   "metadata": {},
   "outputs": [],
   "source": [
    "url = 'http://archive.ics.uci.edu/ml/machine-learning-databases/forest-fires/forestfires.csv'"
   ]
  },
  {
   "cell_type": "code",
   "execution_count": 3,
   "metadata": {},
   "outputs": [
    {
     "data": {
      "text/html": [
       "<div>\n",
       "<style scoped>\n",
       "    .dataframe tbody tr th:only-of-type {\n",
       "        vertical-align: middle;\n",
       "    }\n",
       "\n",
       "    .dataframe tbody tr th {\n",
       "        vertical-align: top;\n",
       "    }\n",
       "\n",
       "    .dataframe thead th {\n",
       "        text-align: right;\n",
       "    }\n",
       "</style>\n",
       "<table border=\"1\" class=\"dataframe\">\n",
       "  <thead>\n",
       "    <tr style=\"text-align: right;\">\n",
       "      <th></th>\n",
       "      <th>X</th>\n",
       "      <th>Y</th>\n",
       "      <th>month</th>\n",
       "      <th>day</th>\n",
       "      <th>FFMC</th>\n",
       "      <th>DMC</th>\n",
       "      <th>DC</th>\n",
       "      <th>ISI</th>\n",
       "      <th>temp</th>\n",
       "      <th>RH</th>\n",
       "      <th>wind</th>\n",
       "      <th>rain</th>\n",
       "      <th>area</th>\n",
       "    </tr>\n",
       "  </thead>\n",
       "  <tbody>\n",
       "    <tr>\n",
       "      <th>0</th>\n",
       "      <td>7</td>\n",
       "      <td>5</td>\n",
       "      <td>mar</td>\n",
       "      <td>fri</td>\n",
       "      <td>86.2</td>\n",
       "      <td>26.2</td>\n",
       "      <td>94.3</td>\n",
       "      <td>5.1</td>\n",
       "      <td>8.2</td>\n",
       "      <td>51</td>\n",
       "      <td>6.7</td>\n",
       "      <td>0.0</td>\n",
       "      <td>0.0</td>\n",
       "    </tr>\n",
       "    <tr>\n",
       "      <th>1</th>\n",
       "      <td>7</td>\n",
       "      <td>4</td>\n",
       "      <td>oct</td>\n",
       "      <td>tue</td>\n",
       "      <td>90.6</td>\n",
       "      <td>35.4</td>\n",
       "      <td>669.1</td>\n",
       "      <td>6.7</td>\n",
       "      <td>18.0</td>\n",
       "      <td>33</td>\n",
       "      <td>0.9</td>\n",
       "      <td>0.0</td>\n",
       "      <td>0.0</td>\n",
       "    </tr>\n",
       "    <tr>\n",
       "      <th>2</th>\n",
       "      <td>7</td>\n",
       "      <td>4</td>\n",
       "      <td>oct</td>\n",
       "      <td>sat</td>\n",
       "      <td>90.6</td>\n",
       "      <td>43.7</td>\n",
       "      <td>686.9</td>\n",
       "      <td>6.7</td>\n",
       "      <td>14.6</td>\n",
       "      <td>33</td>\n",
       "      <td>1.3</td>\n",
       "      <td>0.0</td>\n",
       "      <td>0.0</td>\n",
       "    </tr>\n",
       "    <tr>\n",
       "      <th>3</th>\n",
       "      <td>8</td>\n",
       "      <td>6</td>\n",
       "      <td>mar</td>\n",
       "      <td>fri</td>\n",
       "      <td>91.7</td>\n",
       "      <td>33.3</td>\n",
       "      <td>77.5</td>\n",
       "      <td>9.0</td>\n",
       "      <td>8.3</td>\n",
       "      <td>97</td>\n",
       "      <td>4.0</td>\n",
       "      <td>0.2</td>\n",
       "      <td>0.0</td>\n",
       "    </tr>\n",
       "    <tr>\n",
       "      <th>4</th>\n",
       "      <td>8</td>\n",
       "      <td>6</td>\n",
       "      <td>mar</td>\n",
       "      <td>sun</td>\n",
       "      <td>89.3</td>\n",
       "      <td>51.3</td>\n",
       "      <td>102.2</td>\n",
       "      <td>9.6</td>\n",
       "      <td>11.4</td>\n",
       "      <td>99</td>\n",
       "      <td>1.8</td>\n",
       "      <td>0.0</td>\n",
       "      <td>0.0</td>\n",
       "    </tr>\n",
       "  </tbody>\n",
       "</table>\n",
       "</div>"
      ],
      "text/plain": [
       "   X  Y month  day  FFMC   DMC     DC  ISI  temp  RH  wind  rain  area\n",
       "0  7  5   mar  fri  86.2  26.2   94.3  5.1   8.2  51   6.7   0.0   0.0\n",
       "1  7  4   oct  tue  90.6  35.4  669.1  6.7  18.0  33   0.9   0.0   0.0\n",
       "2  7  4   oct  sat  90.6  43.7  686.9  6.7  14.6  33   1.3   0.0   0.0\n",
       "3  8  6   mar  fri  91.7  33.3   77.5  9.0   8.3  97   4.0   0.2   0.0\n",
       "4  8  6   mar  sun  89.3  51.3  102.2  9.6  11.4  99   1.8   0.0   0.0"
      ]
     },
     "execution_count": 3,
     "metadata": {},
     "output_type": "execute_result"
    }
   ],
   "source": [
    "df = pd.read_csv(url)\n",
    "df.head()"
   ]
  },
  {
   "cell_type": "markdown",
   "metadata": {},
   "source": [
    "**!!!** **Sorun1:** Ay ve Gün numeric değil object tipindedir. Bu durum sadece sayıları anlayan **Doğrusal Regresyon** modelimiz için bir sorundur."
   ]
  },
  {
   "cell_type": "markdown",
   "metadata": {},
   "source": [
    "* Gün sütununu ele alacak olursak 7 kategoriden oluştuğunu söyleyebiliriz. Spesifik olarak, bu örnekte haftanın her günü için bir sütun oluşturulacaktır. Yani bir sütun yediye ayrıştırılacak. \n",
    "\n",
    "Makine öğreniminde veri işleme adımında, bir makine öğrenimi modelini beslemeden önce genellikle verilerimizi belirli şekillerde hazırlamamız gerekir. Örneklerden biri, kategorik veriler üzerinde One-Hot kodlama yapmaktır.\n",
    "\n",
    "\n",
    "One-Hot Kodlama, veri işlemede kategorik verilere uygulanan ve bunları makine öğrenimi algoritmalarında kullanılmak üzere ikili vektör gösterimine dönüştüren bir süreçtir.\n",
    "\n",
    "> **ONE-HOT ENCODER (Scikit-Learn)** , olası her değer için bir sütun oluşturur ve uygun sütuna bir koyar. Kategoriler arasında sıralama olmadığında kullanılan yöntemdir. Cinsiyet değişkenini bu yöntemle dönüştürdüğümüzde kadın ve erkek için iki ayrı sütun oluşturur ve 0-1 olarak değer atar. "
   ]
  },
  {
   "cell_type": "markdown",
   "metadata": {},
   "source": [
    "## Veri Temizleme"
   ]
  },
  {
   "cell_type": "markdown",
   "metadata": {},
   "source": [
    "> **GET DUMMIES (Pandas)**\n",
    "One Hot Encoder yöntemi ile aynıdır yalnızca dönüşüm yaparken farklı kütüphaneleri kullanırlar. Bu yöntemde değişkenin tüm kategorileri veri setine sütun olarak eklenir ve her satır için sahip olunan kategori sütunda 1 diğer kategoriler ise 0 olarak etiketlenir.\n",
    "\n",
    "NOT!! Çok kategoriye sahip değişkenler için bu dönüşüm çok boyutluluk ve sparse veri problemine neden olabilir. "
   ]
  },
  {
   "cell_type": "code",
   "execution_count": 4,
   "metadata": {},
   "outputs": [],
   "source": [
    "df = pd.get_dummies(df)"
   ]
  },
  {
   "cell_type": "code",
   "execution_count": 5,
   "metadata": {},
   "outputs": [
    {
     "data": {
      "text/plain": [
       "Index(['X', 'Y', 'FFMC', 'DMC', 'DC', 'ISI', 'temp', 'RH', 'wind', 'rain',\n",
       "       'area', 'month_apr', 'month_aug', 'month_dec', 'month_feb', 'month_jan',\n",
       "       'month_jul', 'month_jun', 'month_mar', 'month_may', 'month_nov',\n",
       "       'month_oct', 'month_sep', 'day_fri', 'day_mon', 'day_sat', 'day_sun',\n",
       "       'day_thu', 'day_tue', 'day_wed'],\n",
       "      dtype='object')"
      ]
     },
     "execution_count": 5,
     "metadata": {},
     "output_type": "execute_result"
    }
   ],
   "source": [
    "df.columns # verisetinin sütunlarına bakıyoruz."
   ]
  },
  {
   "cell_type": "markdown",
   "metadata": {},
   "source": [
    "Bu noktada kolonlar da bir artış olduğunu gözlemleyebiliyoruz. Gün ve Ay kolonlarına uyguladığımız kategorik değişken dönüşümü ile her farklı veri için yeni bir kolon oluşturmuş olduk. "
   ]
  },
  {
   "cell_type": "markdown",
   "metadata": {},
   "source": [
    "Gün kolonunu ele alalım. Pazartesi den Pazar gününe kadar 7 niteliğimiz var. İlk 6 nitelik 1 veya 0 olduğunda 7. nitelik otomatikmen 1 veya 0 olmuş oluyor. Bu nedenle 7. niteliğin kolonunu bırakmamız herhangi bir sorun teşkil etmeyip aksine verisetinin sadeliği ve anlaşılırlığı için önemlidir. Bu nedenle her one-hot kodlanmış özelliğin bir sütununu bırakmalıyız. \n",
    "\n",
    "Bu durumda hangisini bıraktığımızın öneminin olmadığı Ay ve Gün kolonlarında türeyen 1 er kolonu bırakalım."
   ]
  },
  {
   "cell_type": "code",
   "execution_count": 6,
   "metadata": {},
   "outputs": [],
   "source": [
    "df.drop(labels=[\"month_dec\",\"day_sat\"], axis=1, inplace=True)"
   ]
  },
  {
   "cell_type": "code",
   "execution_count": 7,
   "metadata": {},
   "outputs": [
    {
     "data": {
      "text/plain": [
       "X               8.00\n",
       "Y               7.00\n",
       "FFMC           77.50\n",
       "DMC           290.20\n",
       "DC            852.70\n",
       "ISI            56.10\n",
       "temp           31.10\n",
       "RH             85.00\n",
       "wind            9.00\n",
       "rain            6.40\n",
       "area         1090.84\n",
       "month_apr       1.00\n",
       "month_aug       1.00\n",
       "month_feb       1.00\n",
       "month_jan       1.00\n",
       "month_jul       1.00\n",
       "month_jun       1.00\n",
       "month_mar       1.00\n",
       "month_may       1.00\n",
       "month_nov       1.00\n",
       "month_oct       1.00\n",
       "month_sep       1.00\n",
       "day_fri         1.00\n",
       "day_mon         1.00\n",
       "day_sun         1.00\n",
       "day_thu         1.00\n",
       "day_tue         1.00\n",
       "day_wed         1.00\n",
       "dtype: float64"
      ]
     },
     "execution_count": 7,
     "metadata": {},
     "output_type": "execute_result"
    }
   ],
   "source": [
    "df.max() - df.min()  # Her kolon için değer aralıklarını gözlemleyelim."
   ]
  },
  {
   "cell_type": "markdown",
   "metadata": {},
   "source": [
    "Değişkenlerin bazıları, DMC ve DC gibi nispeten yüksek varyansa sahipken, diğerleri haftanın günü gibi 0 ile 1 arasında sınırlandırılmıştır."
   ]
  },
  {
   "cell_type": "markdown",
   "metadata": {},
   "source": [
    "## Model Eğitimi"
   ]
  },
  {
   "cell_type": "markdown",
   "metadata": {},
   "source": [
    "**BİLGİ:** \n",
    "**Basit doğrusal regresyon;** bağımsız değişken (X)ile bağımlı değişken (Y)deki değişimi açıklamayı, bağımsız değişkendeki bir birimlik değişimin bağımlı değişken üzerindeki etkisini ölçmeyi amaçlar.\n",
    "\n",
    "Temel amaç, bağımlı ve bağımsız değişken arasındaki ilişkiyi ifade eden doğrusal fonksiyonu bulmaktır."
   ]
  },
  {
   "cell_type": "code",
   "execution_count": 8,
   "metadata": {},
   "outputs": [],
   "source": [
    "from sklearn.linear_model import LinearRegression"
   ]
  },
  {
   "cell_type": "code",
   "execution_count": 9,
   "metadata": {},
   "outputs": [],
   "source": [
    "data = df.copy()"
   ]
  },
  {
   "cell_type": "code",
   "execution_count": 10,
   "metadata": {},
   "outputs": [],
   "source": [
    "target = data.pop(\"area\")  \n",
    "# \"area\" kolonunu datadan çıkardık aynı zamanda pop fonksiyonu ile çıkarttığımız area kolonunu target(hedef) değişkenine attık."
   ]
  },
  {
   "cell_type": "code",
   "execution_count": 11,
   "metadata": {},
   "outputs": [
    {
     "data": {
      "text/plain": [
       "0    0.0\n",
       "1    0.0\n",
       "2    0.0\n",
       "3    0.0\n",
       "4    0.0\n",
       "Name: area, dtype: float64"
      ]
     },
     "execution_count": 11,
     "metadata": {},
     "output_type": "execute_result"
    }
   ],
   "source": [
    "target.head()"
   ]
  },
  {
   "cell_type": "code",
   "execution_count": 12,
   "metadata": {},
   "outputs": [
    {
     "data": {
      "text/html": [
       "<div>\n",
       "<style scoped>\n",
       "    .dataframe tbody tr th:only-of-type {\n",
       "        vertical-align: middle;\n",
       "    }\n",
       "\n",
       "    .dataframe tbody tr th {\n",
       "        vertical-align: top;\n",
       "    }\n",
       "\n",
       "    .dataframe thead th {\n",
       "        text-align: right;\n",
       "    }\n",
       "</style>\n",
       "<table border=\"1\" class=\"dataframe\">\n",
       "  <thead>\n",
       "    <tr style=\"text-align: right;\">\n",
       "      <th></th>\n",
       "      <th>X</th>\n",
       "      <th>Y</th>\n",
       "      <th>FFMC</th>\n",
       "      <th>DMC</th>\n",
       "      <th>DC</th>\n",
       "      <th>ISI</th>\n",
       "      <th>temp</th>\n",
       "      <th>RH</th>\n",
       "      <th>wind</th>\n",
       "      <th>rain</th>\n",
       "      <th>...</th>\n",
       "      <th>month_may</th>\n",
       "      <th>month_nov</th>\n",
       "      <th>month_oct</th>\n",
       "      <th>month_sep</th>\n",
       "      <th>day_fri</th>\n",
       "      <th>day_mon</th>\n",
       "      <th>day_sun</th>\n",
       "      <th>day_thu</th>\n",
       "      <th>day_tue</th>\n",
       "      <th>day_wed</th>\n",
       "    </tr>\n",
       "  </thead>\n",
       "  <tbody>\n",
       "    <tr>\n",
       "      <th>0</th>\n",
       "      <td>7</td>\n",
       "      <td>5</td>\n",
       "      <td>86.2</td>\n",
       "      <td>26.2</td>\n",
       "      <td>94.3</td>\n",
       "      <td>5.1</td>\n",
       "      <td>8.2</td>\n",
       "      <td>51</td>\n",
       "      <td>6.7</td>\n",
       "      <td>0.0</td>\n",
       "      <td>...</td>\n",
       "      <td>0</td>\n",
       "      <td>0</td>\n",
       "      <td>0</td>\n",
       "      <td>0</td>\n",
       "      <td>1</td>\n",
       "      <td>0</td>\n",
       "      <td>0</td>\n",
       "      <td>0</td>\n",
       "      <td>0</td>\n",
       "      <td>0</td>\n",
       "    </tr>\n",
       "    <tr>\n",
       "      <th>1</th>\n",
       "      <td>7</td>\n",
       "      <td>4</td>\n",
       "      <td>90.6</td>\n",
       "      <td>35.4</td>\n",
       "      <td>669.1</td>\n",
       "      <td>6.7</td>\n",
       "      <td>18.0</td>\n",
       "      <td>33</td>\n",
       "      <td>0.9</td>\n",
       "      <td>0.0</td>\n",
       "      <td>...</td>\n",
       "      <td>0</td>\n",
       "      <td>0</td>\n",
       "      <td>1</td>\n",
       "      <td>0</td>\n",
       "      <td>0</td>\n",
       "      <td>0</td>\n",
       "      <td>0</td>\n",
       "      <td>0</td>\n",
       "      <td>1</td>\n",
       "      <td>0</td>\n",
       "    </tr>\n",
       "    <tr>\n",
       "      <th>2</th>\n",
       "      <td>7</td>\n",
       "      <td>4</td>\n",
       "      <td>90.6</td>\n",
       "      <td>43.7</td>\n",
       "      <td>686.9</td>\n",
       "      <td>6.7</td>\n",
       "      <td>14.6</td>\n",
       "      <td>33</td>\n",
       "      <td>1.3</td>\n",
       "      <td>0.0</td>\n",
       "      <td>...</td>\n",
       "      <td>0</td>\n",
       "      <td>0</td>\n",
       "      <td>1</td>\n",
       "      <td>0</td>\n",
       "      <td>0</td>\n",
       "      <td>0</td>\n",
       "      <td>0</td>\n",
       "      <td>0</td>\n",
       "      <td>0</td>\n",
       "      <td>0</td>\n",
       "    </tr>\n",
       "    <tr>\n",
       "      <th>3</th>\n",
       "      <td>8</td>\n",
       "      <td>6</td>\n",
       "      <td>91.7</td>\n",
       "      <td>33.3</td>\n",
       "      <td>77.5</td>\n",
       "      <td>9.0</td>\n",
       "      <td>8.3</td>\n",
       "      <td>97</td>\n",
       "      <td>4.0</td>\n",
       "      <td>0.2</td>\n",
       "      <td>...</td>\n",
       "      <td>0</td>\n",
       "      <td>0</td>\n",
       "      <td>0</td>\n",
       "      <td>0</td>\n",
       "      <td>1</td>\n",
       "      <td>0</td>\n",
       "      <td>0</td>\n",
       "      <td>0</td>\n",
       "      <td>0</td>\n",
       "      <td>0</td>\n",
       "    </tr>\n",
       "    <tr>\n",
       "      <th>4</th>\n",
       "      <td>8</td>\n",
       "      <td>6</td>\n",
       "      <td>89.3</td>\n",
       "      <td>51.3</td>\n",
       "      <td>102.2</td>\n",
       "      <td>9.6</td>\n",
       "      <td>11.4</td>\n",
       "      <td>99</td>\n",
       "      <td>1.8</td>\n",
       "      <td>0.0</td>\n",
       "      <td>...</td>\n",
       "      <td>0</td>\n",
       "      <td>0</td>\n",
       "      <td>0</td>\n",
       "      <td>0</td>\n",
       "      <td>0</td>\n",
       "      <td>0</td>\n",
       "      <td>1</td>\n",
       "      <td>0</td>\n",
       "      <td>0</td>\n",
       "      <td>0</td>\n",
       "    </tr>\n",
       "  </tbody>\n",
       "</table>\n",
       "<p>5 rows × 27 columns</p>\n",
       "</div>"
      ],
      "text/plain": [
       "   X  Y  FFMC   DMC     DC  ISI  temp  RH  wind  rain  ...  month_may  \\\n",
       "0  7  5  86.2  26.2   94.3  5.1   8.2  51   6.7   0.0  ...          0   \n",
       "1  7  4  90.6  35.4  669.1  6.7  18.0  33   0.9   0.0  ...          0   \n",
       "2  7  4  90.6  43.7  686.9  6.7  14.6  33   1.3   0.0  ...          0   \n",
       "3  8  6  91.7  33.3   77.5  9.0   8.3  97   4.0   0.2  ...          0   \n",
       "4  8  6  89.3  51.3  102.2  9.6  11.4  99   1.8   0.0  ...          0   \n",
       "\n",
       "   month_nov  month_oct  month_sep  day_fri  day_mon  day_sun  day_thu  \\\n",
       "0          0          0          0        1        0        0        0   \n",
       "1          0          1          0        0        0        0        0   \n",
       "2          0          1          0        0        0        0        0   \n",
       "3          0          0          0        1        0        0        0   \n",
       "4          0          0          0        0        0        1        0   \n",
       "\n",
       "   day_tue  day_wed  \n",
       "0        0        0  \n",
       "1        1        0  \n",
       "2        0        0  \n",
       "3        0        0  \n",
       "4        0        0  \n",
       "\n",
       "[5 rows x 27 columns]"
      ]
     },
     "execution_count": 12,
     "metadata": {},
     "output_type": "execute_result"
    }
   ],
   "source": [
    "data.head() "
   ]
  },
  {
   "cell_type": "markdown",
   "metadata": {},
   "source": [
    "**Regresyonu modelleyebilmek için bir model nesnesi oluşturalım. Bunun için scikit-learn kütüphanesinden yararlanalım.**"
   ]
  },
  {
   "cell_type": "code",
   "execution_count": 13,
   "metadata": {
    "scrolled": true
   },
   "outputs": [],
   "source": [
    "lr = LinearRegression(fit_intercept=True)\n",
    "\n",
    "# fit_intercept=False, çizgi y kesme noktası orijine (0, 0) zorlanır.\n",
    "# fit_intercept=True, y kesme noktası en uygun çizgi tarafından belirlenir."
   ]
  },
  {
   "cell_type": "markdown",
   "metadata": {},
   "source": [
    "**Modelimizi fit() metoduyla kuralım. Doğrusal bir fit en küçük kareler yöntemiyle bulunur.**\n",
    "\n",
    "*Vikipedia:* En küçük kareler yöntemi, birbirine bağlı olarak değişen iki fiziksel büyüklük arasındaki matematiksel bağlantıyı, mümkün olduğunca gerçeğe uygun bir denklem olarak yazmak için kullanılan, standart bir regresyon yöntemidir. Bir başka deyişle **bu yöntem, ölçüm sonucu elde edilmiş veri noktalarına \"mümkün olduğu kadar yakın\" geçecek bir fonksiyon eğrisi bulmaya yarar.** Gauss-Markov Teoremi'ne göre en küçük kareler yöntemi, regresyon için optimal yöntemdir."
   ]
  },
  {
   "cell_type": "code",
   "execution_count": 14,
   "metadata": {},
   "outputs": [
    {
     "data": {
      "text/plain": [
       "LinearRegression()"
      ]
     },
     "execution_count": 14,
     "metadata": {},
     "output_type": "execute_result"
    }
   ],
   "source": [
    "lr.fit(data, target)"
   ]
  },
  {
   "cell_type": "code",
   "execution_count": 15,
   "metadata": {},
   "outputs": [
    {
     "data": {
      "text/plain": [
       "51.62412253340599"
      ]
     },
     "execution_count": 15,
     "metadata": {},
     "output_type": "execute_result"
    }
   ],
   "source": [
    "lr.intercept_   # β0 katsayısını çağırmak için"
   ]
  },
  {
   "cell_type": "code",
   "execution_count": 16,
   "metadata": {},
   "outputs": [
    {
     "data": {
      "text/plain": [
       "array([  2.25583295,  -0.14765158,  -0.09527277,   0.20106326,\n",
       "        -0.12880031,  -0.54416333,   1.29619892,  -0.13476015,\n",
       "         1.97427446,  -2.81544852, -47.3782107 ,  -0.4961627 ,\n",
       "       -41.78836131, -32.60912303, -18.49932411, -40.66272755,\n",
       "       -51.60076681, -34.58175393, -51.78831038,  21.59715384,\n",
       "        26.3537085 , -19.40992987, -13.44064682, -14.26533092,\n",
       "        -9.73800989, -11.61710499, -13.93079221])"
      ]
     },
     "execution_count": 16,
     "metadata": {},
     "output_type": "execute_result"
    }
   ],
   "source": [
    "lr.coef_        # β1 katsayısını çağırmak için"
   ]
  },
  {
   "cell_type": "markdown",
   "metadata": {},
   "source": [
    "**!!!** Scikit-learn kütüphanesinde eğitim verisinden elde edilen parametrelerin sonuna alt tire(_) konur. Böylece bulunan parametreler ile kullanıcıdan alınan parametreler birbirinden ayrılır."
   ]
  },
  {
   "cell_type": "markdown",
   "metadata": {},
   "source": [
    "**Modelimizin nasıl performans gösterdiğini görmek için R ^ 2 ve Root Mean Squared Error(RMSE)’a bakalım.**"
   ]
  },
  {
   "cell_type": "code",
   "execution_count": 17,
   "metadata": {},
   "outputs": [
    {
     "data": {
      "text/plain": [
       "0.04578209650808518"
      ]
     },
     "execution_count": 17,
     "metadata": {},
     "output_type": "execute_result"
    }
   ],
   "source": [
    "lr.score(data, target)  # R2 değeri"
   ]
  },
  {
   "cell_type": "markdown",
   "metadata": {},
   "source": [
    "R2 modelin açıklanabilirliği ile ilgili bir değerdir. **R2 elimizdeki bağımsız değişkenleri kullandığımızda bağımlı değişkendeki değişimin yüzde kaçını açıklayabiliyoruz** bilgisini bize sunar. "
   ]
  },
  {
   "cell_type": "code",
   "execution_count": 18,
   "metadata": {},
   "outputs": [],
   "source": [
    "from sklearn.metrics import mean_squared_error"
   ]
  },
  {
   "cell_type": "code",
   "execution_count": 19,
   "metadata": {},
   "outputs": [],
   "source": [
    "predictions = lr.predict(data) # tahmin değerlerini oluşturduk"
   ]
  },
  {
   "cell_type": "code",
   "execution_count": 20,
   "metadata": {},
   "outputs": [
    {
     "data": {
      "text/plain": [
       "3859.0724526251074"
      ]
     },
     "execution_count": 20,
     "metadata": {},
     "output_type": "execute_result"
    }
   ],
   "source": [
    "mse = mean_squared_error(target, predictions) # Ortalama kare hata\n",
    "mse"
   ]
  },
  {
   "cell_type": "markdown",
   "metadata": {},
   "source": [
    "* **Ortalama kare hata**(mean_squared_error) bir regresyon eğrisinin bir dizi noktaya ne kadar yakın olduğunu söyler. MSE, bir makine öğrenmesi modelinin, tahminleyicinin performansını ölçer, **her zaman pozitif değerlidir ve MSE değeri sıfıra yakın olan tahminleyicilerin daha iyi bir performans gösterdiği söylenebilir.**"
   ]
  },
  {
   "cell_type": "code",
   "execution_count": 59,
   "metadata": {},
   "outputs": [
    {
     "data": {
      "text/plain": [
       "62.12143311792724"
      ]
     },
     "execution_count": 59,
     "metadata": {},
     "output_type": "execute_result"
    }
   ],
   "source": [
    "rmse = np.sqrt(mse) # Kök Ortalama Kare Hata\n",
    "rmse"
   ]
  },
  {
   "cell_type": "markdown",
   "metadata": {},
   "source": [
    "* Bir makine öğrenmesi modelinin, tahminleyicinin tahmin ettiği değerler ile gerçek değerleri arasındaki uzaklığın bulunmasında sıklıkla kullanılan, hatanın büyüklüğünü ölçen kuadratik bir metriktir. RMSE tahmin hatalarının (kalıntıların) standart sapmasıdır. Başka bir deyişle, verilere en iyi uyan çizgi etrafında o verilerin ne kadar yoğun olduğunu söyler. RMSE değeri 0’dan ∞’a kadar değişebilir. **Negatif yönelimli puanlar yani daha düşük değerlere sahip tahminleyiciler daha iyi performans gösterir. RMSE değerinin sıfır olması modelin hiç hata yapmadığı anlamına gelir.**"
   ]
  },
  {
   "cell_type": "markdown",
   "metadata": {},
   "source": [
    "##### Elde Ettiğimiz Son İki Değeri Yorumlayalım\n",
    "Değerlere göre modelimizin kötü olduğunu söyleyebiliriz. \n",
    "\n",
    "1’e yaklaşan bir R ^ 2’ye ya da 0’a yakın bir RMSE’ye sahip olabilirdik. "
   ]
  },
  {
   "cell_type": "code",
   "execution_count": 60,
   "metadata": {},
   "outputs": [],
   "source": [
    "from sklearn.model_selection import train_test_split"
   ]
  },
  {
   "cell_type": "code",
   "execution_count": 61,
   "metadata": {},
   "outputs": [],
   "source": [
    "X_train, X_test, y_train, y_test = train_test_split(data, target, \n",
    "                                                    shuffle=True,\n",
    "                                                    test_size=0.5,\n",
    "                                                    random_state=49)"
   ]
  },
  {
   "cell_type": "markdown",
   "metadata": {},
   "source": [
    "* **shuffle :** Bölmeden önce verilerin karıştırılıp karıştırılmayacağını belirler.\n",
    "\n",
    "* **random_state :** Bölmeyi uygulamadan önce verilere uygulanan karıştırmayı kontrol eder.\n",
    "\n",
    "* **test_size :** Float ise, 0.0 ile 1.0 arasında olmalı ve test bölmesine dahil edilecek veri kümesinin oranını temsil etmelidir."
   ]
  },
  {
   "cell_type": "markdown",
   "metadata": {},
   "source": [
    "#### Eğitim Verilerine Uygun Model"
   ]
  },
  {
   "cell_type": "code",
   "execution_count": 62,
   "metadata": {},
   "outputs": [
    {
     "data": {
      "text/plain": [
       "LinearRegression()"
      ]
     },
     "execution_count": 62,
     "metadata": {},
     "output_type": "execute_result"
    }
   ],
   "source": [
    "lr_split = LinearRegression(fit_intercept=True)\n",
    "lr_split.fit(X_train,y_train)"
   ]
  },
  {
   "cell_type": "code",
   "execution_count": 63,
   "metadata": {},
   "outputs": [],
   "source": [
    "def calc_ISE(X_train, y_train, model):\n",
    "    predictions = model.predict(X_train)\n",
    "    mse = mean_squared_error(y_train, predictions)\n",
    "    rmse = np.sqrt(mse)\n",
    "    return model.score(X_train, y_train), rmse"
   ]
  },
  {
   "cell_type": "code",
   "execution_count": 64,
   "metadata": {},
   "outputs": [],
   "source": [
    "def calc_OSE(X_test, y_test, model):\n",
    "    predictions = model.predict(X_test)\n",
    "    mse = mean_squared_error(y_test, predictions)\n",
    "    rmse = np.sqrt(mse)\n",
    "    return model.score(X_test, y_test), rmse"
   ]
  },
  {
   "cell_type": "code",
   "execution_count": 65,
   "metadata": {},
   "outputs": [
    {
     "name": "stdout",
     "output_type": "stream",
     "text": [
      "R^2_in    : 0.07513974961762804\n",
      "R^2_out   : -0.005167798223800313\n",
      "ISE       : 24.75445904929311\n",
      "OSE       : 86.03512342431831\n"
     ]
    }
   ],
   "source": [
    "is_r2, ise = calc_ISE(X_train,y_train, lr_split)\n",
    "\n",
    "os_r2, ose = calc_OSE(X_test, y_test, lr_split)\n",
    "\n",
    "# Veri kümesi boyutlarını göster.\n",
    "data_list = ((\"R^2_in\", is_r2), \n",
    "             (\"R^2_out\", os_r2), \n",
    "             (\"ISE\", ise), \n",
    "             (\"OSE\", ose))\n",
    "\n",
    "for item in data_list:\n",
    "    print(\"{:10}: {}\".format(item[0],item[1]))"
   ]
  },
  {
   "cell_type": "markdown",
   "metadata": {},
   "source": [
    "**Yorumlama**\n",
    "Örnek içi R ^ 2’nin oldukça düşük olduğunu görebiliriz ancak burada ilginç olan, örnek dışı R ^ 2’nin daha düşük olmasıdır. Aslında, biraz sıfırın altında. Daha da fazlasını söylemek RMSE değerleridir. Modelin gördüğü veriler için RMSE (ISE veya eğitim hatası), modelin hiç görmediği veriler için RMSE’den (3 faktörü) önemli ölçüde daha düşüktür (OSE veya test hatası). Makine öğreniminde konuşmamız, modelimiz fazla yorucudur, yani gördüğü veriler üzerinde çok daha iyi bir iş çıkarır (yani, eğitimli model iyi genelleşmez). Egzersiz hatası ile test hatası arasındaki boşluk ne kadar büyükse, aşırı uyarlama da o kadar fazla olur. Donanımı donatarak verileri ezberleyebilirsiniz. Bir arama tablosu oluşturma gibi daha fazla olur.\n",
    "\n",
    "Bu yüzden buradaki en büyük paket, modelinizin nasıl çalıştığına dair doğru bir görüntü elde etmek için eğitim hatasını ve test hatasını hesaplamanız gerektiğidir. Bu, başlangıçta bazı verileri tutmayı gerektirir, böylece modelinizi hiç görmediği verilerde test edebilirsiniz. Sklearn’ün train_test_split’sinde bunu yaptığınızı gösterdim."
   ]
  },
  {
   "cell_type": "markdown",
   "metadata": {},
   "source": [
    "### Eğitim / Test Bölünmesinin Dezavantajı"
   ]
  },
  {
   "cell_type": "markdown",
   "metadata": {},
   "source": [
    "##### Çoklu Eğitim / Test Bölmeleri"
   ]
  },
  {
   "cell_type": "code",
   "execution_count": 66,
   "metadata": {},
   "outputs": [
    {
     "data": {
      "text/plain": [
       "array([40,  2, 29, 96, 59])"
      ]
     },
     "execution_count": 66,
     "metadata": {},
     "output_type": "execute_result"
    }
   ],
   "source": [
    "# Random_state değerleri dizisi yarat.\n",
    "random_states = np.random.randint(1,100,size=5)\n",
    "random_states"
   ]
  },
  {
   "cell_type": "code",
   "execution_count": 67,
   "metadata": {},
   "outputs": [
    {
     "name": "stdout",
     "output_type": "stream",
     "text": [
      "Random State: 40\n",
      "IS_R^2: 0.0934 | IS_RMSE: 27.3559\n",
      "OS_R^2: -0.0028 | OS_RMSE: 85.0894\n",
      "----------------------------------\n",
      "Random State: 2\n",
      "IS_R^2: 0.0814 | IS_RMSE: 68.3748\n",
      "OS_R^2: -0.1342 | OS_RMSE: 58.3456\n",
      "----------------------------------\n",
      "Random State: 29\n",
      "IS_R^2: 0.0722 | IS_RMSE: 83.5326\n",
      "OS_R^2: -0.8835 | OS_RMSE: 31.7918\n",
      "----------------------------------\n",
      "Random State: 96\n",
      "IS_R^2: 0.0647 | IS_RMSE: 70.2541\n",
      "OS_R^2: -0.0577 | OS_RMSE: 54.575\n",
      "----------------------------------\n",
      "Random State: 59\n",
      "IS_R^2: 0.0938 | IS_RMSE: 47.5284\n",
      "OS_R^2: -0.0389 | OS_RMSE: 76.1462\n",
      "----------------------------------\n"
     ]
    }
   ],
   "source": [
    "for random_state in random_states:\n",
    "    # Verileri rastgele duruma göre böl.\n",
    "    X_train, X_test, y_train, y_test = train_test_split(data, target,\n",
    "                                                        shuffle = True,\n",
    "                                                        test_size = 0.5,\n",
    "                                                        random_state = random_state)\n",
    "    \n",
    "    # Örnek model\n",
    "    lr = LinearRegression(fit_intercept=True)\n",
    "\n",
    "    # Eğitim modeli\n",
    "    lr.fit(X_train,y_train)\n",
    "\n",
    "    # Önemli metrikleri yakalayın.\n",
    "    is_r2, ise = calc_ISE(X_train, y_train, lr)\n",
    "    os_r2, ose = calc_OSE(X_test, y_test, lr)\n",
    "    \n",
    "    # Yuvarlak değerler\n",
    "    is_r2, os_r2 = round(is_r2, 4), round(os_r2, 4)\n",
    "    ise, ose = round(ise, 4), round(ose, 4)\n",
    "    \n",
    "    # Anahtar metriklerini yazdır.\n",
    "    print('Random State: {}'.format(random_state))\n",
    "    print('IS_R^2: {} | IS_RMSE: {}'.format(is_r2, ise))\n",
    "    print('OS_R^2: {} | OS_RMSE: {}'.format(os_r2, ose))\n",
    "    print('-'*34)"
   ]
  },
  {
   "cell_type": "markdown",
   "metadata": {},
   "source": [
    "**Çıkarımlar**\n",
    "* R ^ 2, örneklemenin tersine her zaman örneklemde daha yüksektir.\n",
    "* RMSE, örnekten örneklere kıyasla büyük değişkenlik göstermektedir."
   ]
  },
  {
   "cell_type": "markdown",
   "metadata": {},
   "source": [
    "**Tartışma**\n",
    "Örnek olarak R ^ 2’nin daha yüksek olması sürpriz değildir. Buradaki sürpriz RMSE. Özellikle ilginç olan, bazen eğitim hatasının test hatasından daha yüksek olduğu ve bazen bunun tersi olmasıdır. Bu küçük bir veri kümesidir, bu nedenle hedef değişkendeki çarpık dağılım bu etkiyi yaratmaktadır. Çok daha büyük bir veri kümesi daha küçük bir dereceye kadar etkilenecektir."
   ]
  },
  {
   "cell_type": "code",
   "execution_count": null,
   "metadata": {},
   "outputs": [],
   "source": [
    "\n"
   ]
  }
 ],
 "metadata": {
  "kernelspec": {
   "display_name": "Python 3",
   "language": "python",
   "name": "python3"
  },
  "language_info": {
   "codemirror_mode": {
    "name": "ipython",
    "version": 3
   },
   "file_extension": ".py",
   "mimetype": "text/x-python",
   "name": "python",
   "nbconvert_exporter": "python",
   "pygments_lexer": "ipython3",
   "version": "3.8.5"
  }
 },
 "nbformat": 4,
 "nbformat_minor": 4
}
